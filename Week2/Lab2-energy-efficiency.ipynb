{
 "cells": [
  {
   "cell_type": "markdown",
   "id": "16c0708e-dea9-4b21-966c-299bb273e08e",
   "metadata": {},
   "source": [
    "ZP8dbDGQ# EDS232 Lab 2: Regularized Regression and Energy Modeling\n",
    "\n",
    "\n",
    "## Overview\n",
    "In this lab, you will explore Ridge Regression and Lasso Regression, two common techniques for regularized regression. Both methods add penalties to the standard regression coefficients, which can help prevent overfitting and improve model interpretability.\n",
    "\n",
    "## Key Concepts\n",
    "\n",
    "**Types of Regularization:**\n",
    "\n",
    "- Ridge Regression:\n",
    "\n",
    "    - Adds an L2 penalty ($\\lambda \\sum_{j=1}^p \\beta_j^2 $) to the regression loss function.\n",
    "    - Shrinks coefficients toward zero but does not set any coefficients exactly to zero.\n",
    "    - Best suited for reducing multicollinearity and improving model stability.\n",
    "\n",
    "- Lasso Regression:\n",
    "\n",
    "    - Adds an L1 penalty ($\\lambda \\sum_{j=1}^p |\\beta_j|$) to the regression loss function.\n",
    "    - Can shrink some coefficients to exactly zero, effectively performing feature selection.\n",
    "    - Useful when you want a simpler, interpretable model.\n",
    "\n",
    "**Cross-Validation**\n",
    "\n",
    "- Cross-validation is a method for model evaluation and hyperparameter tuning.  In this lab we will be tuning $\\lambda$, which controls the penalty terms.\n",
    "\n",
    "- Note: Sci-kit learn refers to $\\lambda$, the regularization penalty hyperparameter, as \"alpha\" instead of \"lambda\" \n",
    "\n",
    "\n",
    "## About the data\n",
    "\n",
    "Buildings account for a significant portion of global energy consumption. Effective energy modeling and analysis are critical for designing energy-efficient buildings, reducing greenhouse gas emissions, and meeting sustainability goals. \n",
    "\n",
    "- This dataset contains energy performance data for 768 different building configurations, generated through simulation using Ecotect software. These configurations vary across multiple architectural features:\n",
    "\n",
    "| Feature                     | Description                                                                                   |\n",
    "|-----------------------------|-----------------------------------------------------------------------------------------------|\n",
    "| Relative Compactness        | A measure of how compact the building's shape is.                                             |\n",
    "| Surface Area                | The total external surface area of the building.                                              |\n",
    "| Wall Area                   | The total area of the walls.                                                                  |\n",
    "| Roof Area                   | The area of the roof.                                                                         |\n",
    "| Overall Height              | The height of the building.                                                                   |\n",
    "| Orientation                 | The direction the building faces (categorical, encoded numerically).                         |\n",
    "| Glazing Area                | The percentage of the building’s facade that is glass.                                        |\n",
    "| Glazing Area Distribution   | The distribution of the glazing area (e.g., evenly distributed or concentrated on one side). |\n",
    "| Heating Load (Y1)           | Continuous target variable representing heating energy requirements. (This is the one we'll use for today's lab.) |\n",
    "| Cooling Load (Y2)           | Continuous target variable representing cooling energy requirements. (We won't be using this one.) |\n",
    "\n",
    "[More information on the data set available here.](https://archive.ics.uci.edu/dataset/242/energy+efficiency)\n"
   ]
  },
  {
   "cell_type": "code",
   "execution_count": 1,
   "id": "afd7e68a-91ab-4566-a3a7-3e599191e6a0",
   "metadata": {
    "tags": []
   },
   "outputs": [],
   "source": [
    "# Import libraries\n",
    "import pandas as pd\n",
    "import numpy as np\n",
    "import matplotlib.pyplot as plt\n",
    "from sklearn.model_selection import train_test_split\n",
    "from sklearn.metrics import mean_squared_error\n",
    "from sklearn.linear_model import LinearRegression\n",
    "from sklearn.preprocessing import StandardScaler\n",
    "from sklearn.linear_model import Ridge\n",
    "from sklearn.linear_model import Lasso\n",
    "from sklearn.linear_model import RidgeCV\n",
    "from sklearn.linear_model import LassoCV\n",
    "from ucimlrepo import fetch_ucirepo"
   ]
  },
  {
   "cell_type": "markdown",
   "id": "052cec6a",
   "metadata": {},
   "source": [
    "### Step 1: Fetch  dataset \n",
    "Grab the data from the UC Irvine Machine Learning Repository using fetch_ucirepo.  Note that the object returned contains both tabular data as well as metadata.  We'll need to add column names to the tabular data."
   ]
  },
  {
   "cell_type": "code",
   "execution_count": 2,
   "id": "ea0ecf0b-bce9-47ad-b902-d9dcf2448dfe",
   "metadata": {
    "tags": []
   },
   "outputs": [
    {
     "data": {
      "text/plain": [
       "ucimlrepo.dotdict.dotdict"
      ]
     },
     "execution_count": 2,
     "metadata": {},
     "output_type": "execute_result"
    }
   ],
   "source": [
    "# Fetch dataset\n",
    "energy_efficiency = fetch_ucirepo(id = 242)\n",
    "\n",
    "# Specify column names as a list of names from the metadata\n",
    "feature_names = [\"Relative Compactness\",\n",
    "    \"Surface Area\",\n",
    "    \"Wall Area\",\n",
    "    \"Roof Area\",\n",
    "    \"Overall Height\",\n",
    "    \"Orientation\",\n",
    "    \"Glazing Area\",\n",
    "    \"Glazing Area Distribution\",]\n",
    "\n",
    "# Add feature_names as column names in energy_efficiency.data\n",
    "energy_efficiency.data[\"features\"].columns = feature_names\n",
    "\n",
    "# Rename the 'targets' columns and assign Heating Load target to heating_load\n",
    "energy_efficiency.data[\"targets\"].columns = [\"Heating Load\", \"Cooling Load\"]\n",
    "\n",
    "heating_load = energy_efficiency.data[\"targets\"][\"Heating Load\"]\n",
    "\n",
    "type(energy_efficiency.data)"
   ]
  },
  {
   "cell_type": "markdown",
   "id": "b8127d4b-1a07-49d2-9eb9-9ceb58e37868",
   "metadata": {},
   "source": [
    "### Step 2: Preprocess the data\n",
    "Split the data into training and test sets **using a 70/30 split and a random state value of 42**. Then scale the data using StandardScaler."
   ]
  },
  {
   "cell_type": "code",
   "execution_count": 3,
   "id": "c2949568",
   "metadata": {
    "tags": []
   },
   "outputs": [],
   "source": [
    "# Assign predictor and outcome variables \n",
    "X = energy_efficiency.data.features\n",
    "Y = heating_load\n",
    "\n",
    "# Split the data\n",
    "X_train, X_test, y_train, y_test = train_test_split(X, Y, test_size = 0.3, random_state = 42)\n",
    "\n",
    "# Standardize the predictors\n",
    "scaler = StandardScaler()\n",
    "X_train_scaled = scaler.fit_transform(X_train)\n",
    "X_test_scaled = scaler.fit_transform(X_test)"
   ]
  },
  {
   "cell_type": "markdown",
   "id": "410fb7ba",
   "metadata": {},
   "source": [
    "### Step 3: Initial model fits\n",
    "We'll start by fitting a simple ordinary least squared regression model for comparison purposes.  Then we'll fit an initial ridge regression model. Let's start by choosing 10 as an arbitrary value for alpha. Recall that we can access coefficients from a model instance with `model_name.coef_`. \n"
   ]
  },
  {
   "cell_type": "code",
   "execution_count": 4,
   "id": "decbe825",
   "metadata": {
    "tags": []
   },
   "outputs": [
    {
     "name": "stdout",
     "output_type": "stream",
     "text": [
      "OLS Coefficients: [-6.68692391 -3.70147238  0.76114173 -3.99242943  7.21681807 -0.02606662\n",
      "  2.6700316   0.35604219]\n",
      "Ridge Coefficients: [-2.47753304 -1.43512945  1.71819798 -2.24012431  6.98517033 -0.02697343\n",
      "  2.64233342  0.3579727 ]\n"
     ]
    }
   ],
   "source": [
    "# Create OLS instance and fit it\n",
    "ols = LinearRegression()\n",
    "ols.fit(X_train_scaled, y_train)\n",
    "\n",
    "# Define a fixed alpha (lambda)\n",
    "alpha_fixed = 10\n",
    "\n",
    "# Create Ridge regression instance and fit it\n",
    "ridge = Ridge(alpha = alpha_fixed)\n",
    "ridge.fit(X_train_scaled, y_train)\n",
    "\n",
    "# Check coefficients of the OLS and ridge models\n",
    "print(\"OLS Coefficients:\", ols.coef_)\n",
    "print(\"Ridge Coefficients:\", ridge.coef_)"
   ]
  },
  {
   "cell_type": "markdown",
   "id": "15ec75ba",
   "metadata": {},
   "source": [
    "Is the penalty term doing its job?  How can you tell?"
   ]
  },
  {
   "cell_type": "markdown",
   "id": "22513ce9",
   "metadata": {},
   "source": [
    "Yes, the penalty term in Ridge regression is doing its job because the coefficients are shrinking, however the coefficients do not shrink uniformly."
   ]
  },
  {
   "cell_type": "markdown",
   "id": "9f77de4b",
   "metadata": {},
   "source": [
    "### Step 4: Evaluate ridge model\n",
    "Now let's use our ridge model to make predictions and evaluate it using MSE. **Be sure to print your results.**"
   ]
  },
  {
   "cell_type": "code",
   "execution_count": 5,
   "id": "23e19926",
   "metadata": {
    "tags": []
   },
   "outputs": [
    {
     "name": "stdout",
     "output_type": "stream",
     "text": [
      "Train MSE (alpha = 10): 8.7248\n",
      "Test MSE (alpha = 10): 9.9576\n"
     ]
    }
   ],
   "source": [
    "# Predictions using ridge model\n",
    "y_train_pred = ridge.predict(X_train_scaled)\n",
    "y_test_pred = ridge.predict(X_test_scaled)\n",
    "\n",
    "# Evaluate MSE\n",
    "mse_train = mean_squared_error(y_train, y_train_pred)\n",
    "mse_test = mean_squared_error(y_test, y_test_pred)\n",
    "\n",
    "print(f\"Train MSE (alpha = {alpha_fixed}): {mse_train:.4f}\")\n",
    "print(f\"Test MSE (alpha = {alpha_fixed}): {mse_test:.4f}\")"
   ]
  },
  {
   "cell_type": "markdown",
   "id": "419c3469",
   "metadata": {},
   "source": [
    "### Step 5: Cross-validation with ridge\n",
    "Now let's move to a more sophisticated version of a ridge regression model using cross-validation using the RidgeCV class.  Let's try models with 0.1, 1.0, and 10.0 as values of alpha. Of the alpha parameter values we try, the model will save the that yielded the best MSE in the `_cv.alpha_` attribute."
   ]
  },
  {
   "cell_type": "code",
   "execution_count": 6,
   "id": "dab3def6",
   "metadata": {
    "tags": []
   },
   "outputs": [
    {
     "name": "stdout",
     "output_type": "stream",
     "text": [
      "Best alpha 1.0\n",
      "Alpha values [0.1, 1.0, 10.0]\n",
      "Test MSE with best alpha: 9.5469\n"
     ]
    }
   ],
   "source": [
    "# Define the three alpha values\n",
    "alphas = [0.1, 1.0, 10.0]\n",
    "\n",
    "# Fit RidgeCV\n",
    "ridge_cv = RidgeCV(alphas = alphas, cv = 10).fit(X_train_scaled, y_train)\n",
    "\n",
    "# Print best alpha\n",
    "print(f\"Best alpha {ridge_cv.alpha_}\")\n",
    "\n",
    "print(f\"Alpha values {ridge_cv.alphas}\")\n",
    "\n",
    "# Evaluate model with the best alpha\n",
    "y_test_pred_cv = ridge_cv.predict(X_test_scaled)\n",
    "mse_test_cv = mean_squared_error(y_test, y_test_pred_cv)\n",
    "\n",
    "print(f\"Test MSE with best alpha: {mse_test_cv:.4f}\")"
   ]
  },
  {
   "cell_type": "markdown",
   "id": "5a545998-596f-4021-83a9-71010807a5dc",
   "metadata": {},
   "source": [
    "### Step 6: Fit ridge models to a large range of alpha values \n",
    "Now we are going to dig a little deeper to see alpha's effect on the model coefficients. Let's define a larger range of alphas to try on a log scale with np.logspace(). Let's use 100 values ranging between -4 and 4.  Then using a for loop, we'll fit a Ridge model for each of those values of alpha, appending each model's coefficients (`coefficients.append()`) as we go."
   ]
  },
  {
   "cell_type": "code",
   "execution_count": 7,
   "id": "de186e4d",
   "metadata": {
    "tags": []
   },
   "outputs": [
    {
     "name": "stdout",
     "output_type": "stream",
     "text": [
      "[[-6.46945496e+01 -6.25012797e-02  3.61209957e-02 -4.93262646e-02\n",
      "   4.17160409e+00 -2.33281226e-02  1.99325268e+01  2.03774566e-01]\n",
      " [-6.46783275e+01 -6.24815106e-02  3.61209626e-02 -4.93144004e-02\n",
      "   4.17194414e+00 -2.33281221e-02  1.99324955e+01  2.03775137e-01]\n",
      " [-6.46587987e+01 -6.24578128e-02  3.61210239e-02 -4.92999158e-02\n",
      "   4.17235350e+00 -2.33281215e-02  1.99324577e+01  2.03775826e-01]\n",
      " [-6.46352919e+01 -6.24288235e-02  3.61206333e-02 -4.92834095e-02\n",
      "   4.17284625e+00 -2.33281208e-02  1.99324122e+01  2.03776655e-01]\n",
      " [-6.46070006e+01 -6.23936699e-02  3.61198993e-02 -4.92640713e-02\n",
      "   4.17343929e+00 -2.33281199e-02  1.99323574e+01  2.03777653e-01]\n",
      " [-6.45729566e+01 -6.23512017e-02  3.61188496e-02 -4.92411337e-02\n",
      "   4.17415292e+00 -2.33281188e-02  1.99322914e+01  2.03778856e-01]\n",
      " [-6.45319981e+01 -6.23000217e-02  3.61175004e-02 -4.92137104e-02\n",
      "   4.17501148e+00 -2.33281176e-02  1.99322119e+01  2.03780305e-01]\n",
      " [-6.44827325e+01 -6.22382376e-02  3.61156536e-02 -4.91811731e-02\n",
      "   4.17604418e+00 -2.33281161e-02  1.99321161e+01  2.03782050e-01]\n",
      " [-6.44234919e+01 -6.21638969e-02  3.61133858e-02 -4.91421421e-02\n",
      "   4.17728596e+00 -2.33281142e-02  1.99320007e+01  2.03784152e-01]\n",
      " [-6.43522810e+01 -6.20744521e-02  3.61105773e-02 -4.90953897e-02\n",
      "   4.17877865e+00 -2.33281120e-02  1.99318618e+01  2.03786683e-01]\n",
      " [-6.42667163e+01 -6.19669246e-02  3.61071492e-02 -4.90393210e-02\n",
      "   4.18057221e+00 -2.33281094e-02  1.99316944e+01  2.03789733e-01]\n",
      " [-6.41639555e+01 -6.18376687e-02  3.61029136e-02 -4.89722217e-02\n",
      "   4.18272621e+00 -2.33281062e-02  1.99314929e+01  2.03793405e-01]\n",
      " [-6.40406160e+01 -6.16824772e-02  3.60977788e-02 -4.88917881e-02\n",
      "   4.18531154e+00 -2.33281023e-02  1.99312501e+01  2.03797829e-01]\n",
      " [-6.38926824e+01 -6.14963347e-02  3.60916146e-02 -4.87953282e-02\n",
      "   4.18841235e+00 -2.33280977e-02  1.99309576e+01  2.03803158e-01]\n",
      " [-6.37154023e+01 -6.12732221e-02  3.60841836e-02 -4.86798230e-02\n",
      "   4.19212824e+00 -2.33280921e-02  1.99306054e+01  2.03809576e-01]\n",
      " [-6.35031720e+01 -6.10060973e-02  3.60752614e-02 -4.85416014e-02\n",
      "   4.19657663e+00 -2.33280854e-02  1.99301812e+01  2.03817306e-01]\n",
      " [-6.32494128e+01 -6.06866689e-02  3.60645602e-02 -4.83764029e-02\n",
      "   4.20189537e+00 -2.33280773e-02  1.99296702e+01  2.03826616e-01]\n",
      " [-6.29464435e+01 -6.03052973e-02  3.60517855e-02 -4.81791706e-02\n",
      "   4.20824538e+00 -2.33280675e-02  1.99290547e+01  2.03837830e-01]\n",
      " [-6.25853544e+01 -5.98507362e-02  3.60365308e-02 -4.79441696e-02\n",
      "   4.21581333e+00 -2.33280558e-02  1.99283135e+01  2.03851336e-01]\n",
      " [-6.21558938e+01 -5.93101049e-02  3.60183877e-02 -4.76646834e-02\n",
      "   4.22481394e+00 -2.33280416e-02  1.99274207e+01  2.03867603e-01]\n",
      " [-6.16463822e+01 -5.86686888e-02  3.59968508e-02 -4.73331422e-02\n",
      "   4.23549179e+00 -2.33280246e-02  1.99263455e+01  2.03887194e-01]\n",
      " [-6.10436759e+01 -5.79099575e-02  3.59713807e-02 -4.69409713e-02\n",
      "   4.24812208e+00 -2.33280041e-02  1.99250505e+01  2.03910789e-01]\n",
      " [-6.03332075e+01 -5.70155720e-02  3.59413612e-02 -4.64787074e-02\n",
      "   4.26300967e+00 -2.33279793e-02  1.99234909e+01  2.03939206e-01]\n",
      " [-5.94991396e+01 -5.59655959e-02  3.59061238e-02 -4.59360654e-02\n",
      "   4.28048590e+00 -2.33279495e-02  1.99216127e+01  2.03973427e-01]\n",
      " [-5.85246747e+01 -5.47389040e-02  3.58649792e-02 -4.53021048e-02\n",
      "   4.30090195e+00 -2.33279137e-02  1.99193509e+01  2.04014639e-01]\n",
      " [-5.73925661e+01 -5.33137916e-02  3.58172052e-02 -4.45656344e-02\n",
      "   4.32461807e+00 -2.33278704e-02  1.99166272e+01  2.04064265e-01]\n",
      " [-5.60858744e+01 -5.16689585e-02  3.57621102e-02 -4.37156452e-02\n",
      "   4.35198758e+00 -2.33278184e-02  1.99133475e+01  2.04124023e-01]\n",
      " [-5.45889994e+01 -4.97847930e-02  3.56990613e-02 -4.27420188e-02\n",
      "   4.38333514e+00 -2.33277557e-02  1.99093985e+01  2.04195974e-01]\n",
      " [-5.28889914e+01 -4.76450334e-02  3.56275515e-02 -4.16363647e-02\n",
      "   4.41892902e+00 -2.33276801e-02  1.99046440e+01  2.04282602e-01]\n",
      " [-5.09770987e+01 -4.52387127e-02  3.55472601e-02 -4.03930447e-02\n",
      "   4.45894847e+00 -2.33275892e-02  1.98989202e+01  2.04386889e-01]\n",
      " [-4.88504492e+01 -4.25622844e-02  3.54581347e-02 -3.90102569e-02\n",
      "   4.50344824e+00 -2.33274796e-02  1.98920303e+01  2.04512423e-01]\n",
      " [-4.65136866e+01 -3.96216839e-02  3.53604597e-02 -3.74911107e-02\n",
      "   4.55232394e+00 -2.33273476e-02  1.98837377e+01  2.04663513e-01]\n",
      " [-4.39803200e+01 -3.64340323e-02  3.52549195e-02 -3.58445058e-02\n",
      "   4.60528350e+00 -2.33271886e-02  1.98737583e+01  2.04845332e-01]\n",
      " [-4.12735033e+01 -3.30286182e-02  3.51426320e-02 -3.40856501e-02\n",
      "   4.66183046e+00 -2.33269971e-02  1.98617515e+01  2.05064089e-01]\n",
      " [-3.84259784e+01 -2.94468369e-02  3.50251558e-02 -3.22360158e-02\n",
      "   4.72126488e+00 -2.33267665e-02  1.98473085e+01  2.05327227e-01]\n",
      " [-3.54790069e+01 -2.57408437e-02  3.49044446e-02 -3.03226594e-02\n",
      "   4.78270530e+00 -2.33264887e-02  1.98299397e+01  2.05643664e-01]\n",
      " [-3.24802713e+01 -2.19709194e-02  3.47827650e-02 -2.83768539e-02\n",
      "   4.84513248e+00 -2.33261541e-02  1.98090593e+01  2.06024071e-01]\n",
      " [-2.94809265e+01 -1.82017630e-02  3.46625767e-02 -2.64321791e-02\n",
      "   4.90745064e+00 -2.33257511e-02  1.97839671e+01  2.06481198e-01]\n",
      " [-2.65321689e+01 -1.44981787e-02  3.45463935e-02 -2.45222935e-02\n",
      "   4.96855898e+00 -2.33252657e-02  1.97538278e+01  2.07030256e-01]\n",
      " [-2.36817983e+01 -1.09207556e-02  3.44366460e-02 -2.26787066e-02\n",
      "   5.02742303e+00 -2.33246810e-02  1.97176467e+01  2.07689356e-01]\n",
      " [-2.09712541e+01 -7.52214732e-03  3.43355663e-02 -2.09288610e-02\n",
      "   5.08313592e+00 -2.33239768e-02  1.96742420e+01  2.08480007e-01]\n",
      " [-1.84334939e+01 -4.34441420e-03  3.42451115e-02 -1.92947662e-02\n",
      "   5.13496179e+00 -2.33231287e-02  1.96222141e+01  2.09427686e-01]\n",
      " [-1.60918994e+01 -1.41766502e-03  3.41669360e-02 -1.77923031e-02\n",
      "   5.18235728e+00 -2.33221072e-02  1.95599107e+01  2.10562456e-01]\n",
      " [-1.39601987e+01  1.24002068e-03  3.41024086e-02 -1.64311959e-02\n",
      "   5.22497145e+00 -2.33208770e-02  1.94853896e+01  2.11919647e-01]\n",
      " [-1.20432280e+01  3.62160568e-03  3.40526714e-02 -1.52155345e-02\n",
      "   5.26262770e+00 -2.33193953e-02  1.93963794e+01  2.13540556e-01]\n",
      " [-1.03382712e+01  5.72937707e-03  3.40187288e-02 -1.41446772e-02\n",
      "   5.29529314e+00 -2.33176108e-02  1.92902408e+01  2.15473158e-01]\n",
      " [-8.83669313e+00  7.57285238e-03  3.40015535e-02 -1.32143516e-02\n",
      "   5.32304135e+00 -2.33154618e-02  1.91639293e+01  2.17772745e-01]\n",
      " [-7.52562105e+00  9.16661674e-03  3.40022026e-02 -1.24177938e-02\n",
      "   5.34601357e+00 -2.33128738e-02  1.90139668e+01  2.20502446e-01]\n",
      " [-6.38949776e+00  1.05283160e-02  3.40219350e-02 -1.17468102e-02\n",
      "   5.36438197e+00 -2.33097573e-02  1.88364251e+01  2.23733487e-01]\n",
      " [-5.41139846e+00  1.16769371e-02  3.40623280e-02 -1.11926959e-02\n",
      "   5.37831720e+00 -2.33060046e-02  1.86269308e+01  2.27545058e-01]\n",
      " [-4.57406941e+00  1.26314296e-02  3.41253911e-02 -1.07469812e-02\n",
      "   5.38796098e+00 -2.33014861e-02  1.83807024e+01  2.32023589e-01]\n",
      " [-3.86069027e+00  1.34096638e-02  3.42136795e-02 -1.04020082e-02\n",
      "   5.39340364e+00 -2.32960458e-02  1.80926315e+01  2.37261201e-01]\n",
      " [-3.25539047e+00  1.40276875e-02  3.43304086e-02 -1.01513608e-02\n",
      "   5.39466586e+00 -2.32894964e-02  1.77574217e+01  2.43353065e-01]\n",
      " [-2.74356270e+00  1.44992251e-02  3.44795713e-02 -9.99017328e-03\n",
      "   5.39168372e+00 -2.32816125e-02  1.73698005e+01  2.50393429e-01]\n",
      " [-2.31201982e+00  1.48353631e-02  3.46660611e-02 -9.91534919e-03\n",
      "   5.38429608e+00 -2.32721233e-02  1.69248137e+01  2.58470089e-01]\n",
      " [-1.94903748e+00  1.50443675e-02  3.48958009e-02 -9.92571687e-03\n",
      "   5.37223352e+00 -2.32607039e-02  1.64182067e+01  2.67657250e-01]\n",
      " [-1.64431869e+00  1.51315931e-02  3.51758753e-02 -1.00221412e-02\n",
      "   5.35510830e+00 -2.32469640e-02  1.58468844e+01  2.78006916e-01]\n",
      " [-1.38890868e+00  1.50994527e-02  3.55146634e-02 -1.02076054e-02\n",
      "   5.33240522e+00 -2.32304358e-02  1.52094219e+01  2.89539301e-01]\n",
      " [-1.17508172e+00  1.49474283e-02  3.59219637e-02 -1.04872678e-02\n",
      "   5.30347359e+00 -2.32105586e-02  1.45065799e+01  3.02233151e-01]\n",
      " [-9.96215293e-01  1.46721189e-02  3.64090986e-02 -1.08684899e-02\n",
      "   5.26752105e+00 -2.31866617e-02  1.37417519e+01  3.16017252e-01]\n",
      " [-8.46661960e-01  1.42673298e-02  3.69889788e-02 -1.13608246e-02\n",
      "   5.22361059e+00 -2.31579430e-02  1.29212605e+01  3.30764689e-01]\n",
      " [-7.21625998e-01  1.37242227e-02  3.76761048e-02 -1.19759411e-02\n",
      "   5.17066272e+00 -2.31234455e-02  1.20544168e+01  3.46291427e-01]\n",
      " [-6.17048658e-01  1.30315542e-02  3.84864677e-02 -1.27274568e-02\n",
      "   5.10746527e+00 -2.30820294e-02  1.11532774e+01  3.62360374e-01]\n",
      " [-5.29504287e-01  1.21760432e-02  3.94373113e-02 -1.36306341e-02\n",
      "   5.03269444e+00 -2.30323402e-02  1.02320808e+01  3.78691309e-01]\n",
      " [-4.56108137e-01  1.11429135e-02  4.05467064e-02 -1.47018964e-02\n",
      "   4.94495049e+00 -2.29727725e-02  9.30640043e+00  3.94975931e-01]\n",
      " [-3.94435873e-01  9.91666201e-03  4.18328881e-02 -1.59581131e-02\n",
      "   4.84281232e+00 -2.29014309e-02  8.39211398e+00  4.10896225e-01]\n",
      " [-3.42454237e-01  8.48209347e-03  4.33133158e-02 -1.74156112e-02\n",
      "   4.72491415e+00 -2.28160858e-02  7.50432949e+00  4.26143507e-01]\n",
      " [-2.98462060e-01  6.82564696e-03  4.50034328e-02 -1.90888929e-02\n",
      "   4.59004603e+00 -2.27141280e-02  6.65641959e+00  4.40435398e-01]\n",
      " [-2.61040558e-01  4.93699728e-03  4.69151426e-02 -2.09890727e-02\n",
      "   4.43727696e+00 -2.25925228e-02  5.85928961e+00  4.53528370e-01]\n",
      " [-2.29011791e-01  2.81085975e-03  4.90550744e-02 -2.31221073e-02\n",
      "   4.26609479e+00 -2.24477667e-02  5.12095323e+00  4.65224552e-01]\n",
      " [-2.01404021e-01  4.48852413e-04  5.14227835e-02 -2.54869656e-02\n",
      "   4.07655116e+00 -2.22758513e-02  4.44642755e+00  4.75372562e-01]\n",
      " [-1.77422679e-01 -2.13880833e-03  5.40091095e-02 -2.80739589e-02\n",
      "   3.86939379e+00 -2.20722426e-02  3.83790545e+00  4.83863207e-01]\n",
      " [-1.56425625e-01 -4.93206420e-03  5.67949761e-02 -3.08635202e-02\n",
      "   3.64616311e+00 -2.18318832e-02  3.29512903e+00  4.90621492e-01]\n",
      " [-1.37901438e-01 -7.90052709e-03  5.97509343e-02 -3.38257307e-02\n",
      "   3.40922926e+00 -2.15492296e-02  2.81587653e+00  4.95596669e-01]\n",
      " [-1.21449688e-01 -1.10039979e-02  6.28376982e-02 -3.69208481e-02\n",
      "   3.16174939e+00 -2.12183402e-02  2.39648290e+00  4.98751919e-01]\n",
      " [-1.06762386e-01 -1.41941122e-02  6.60077927e-02 -4.01009524e-02\n",
      "   2.90753567e+00 -2.08330291e-02  2.03233307e+00  5.00054993e-01]\n",
      " [-9.36062959e-02 -1.74170344e-02  6.92082380e-02 -4.33126362e-02\n",
      "   2.65084013e+00 -2.03871021e-02  1.71828937e+00  4.99470776e-01]\n",
      " [-8.18061462e-02 -2.06169117e-02  7.23839814e-02 -4.65004466e-02\n",
      "   2.39607940e+00 -1.98746896e-02  1.44903518e+00  4.96956428e-01]\n",
      " [-7.12291859e-02 -2.37396223e-02  7.54816209e-02 -4.96106216e-02\n",
      "   2.14753614e+00 -1.92906801e-02  1.21933214e+00  4.92459524e-01]\n",
      " [-6.17716571e-02 -2.67362910e-02  7.84528933e-02 -5.25945922e-02\n",
      "   1.90907911e+00 -1.86312488e-02  1.02419869e+00  4.85919471e-01]\n",
      " [-5.33477364e-02 -2.95660938e-02  8.12574590e-02 -5.54117764e-02\n",
      "   1.68393982e+00 -1.78944507e-02  8.59022186e-01  4.77272335e-01]\n",
      " [-4.58812535e-02 -3.21980403e-02  8.38646701e-02 -5.80313552e-02\n",
      "   1.47457048e+00 -1.70808272e-02  7.19619193e-01  4.66459079e-01]\n",
      " [-3.93001803e-02 -3.46116326e-02  8.62542250e-02 -6.04329288e-02\n",
      "   1.28259129e+00 -1.61939451e-02  6.02257167e-01  4.53436961e-01]\n",
      " [-3.35335711e-02 -3.67965013e-02  8.84158076e-02 -6.26061545e-02\n",
      "   1.10881912e+00 -1.52407715e-02  5.03649389e-01  4.38193451e-01]\n",
      " [-2.85104283e-02 -3.87512599e-02  9.03479520e-02 -6.45496059e-02\n",
      "   9.53358181e-01 -1.42317819e-02  4.20932471e-01  4.20761533e-01]\n",
      " [-2.41598832e-02 -4.04818809e-02  9.20564296e-02 -6.62691552e-02\n",
      "   8.15728976e-01 -1.31807230e-02  3.51633608e-01  4.01234625e-01]\n",
      " [-2.04121197e-02 -4.19998833e-02  9.35524492e-02 -6.77761663e-02\n",
      "   6.95012059e-01 -1.21039982e-02  2.93632741e-01  3.79778825e-01]\n",
      " [-1.71995782e-02 -4.33205658e-02  9.48508999e-02 -6.90857329e-02\n",
      "   5.89988317e-01 -1.10197122e-02  2.45123197e-01  3.56639926e-01]\n",
      " [-1.44581199e-02 -4.44614401e-02  9.59687905e-02 -7.02151153e-02\n",
      "   4.99263285e-01 -9.94648279e-03  2.04573112e-01  3.32142846e-01]\n",
      " [-1.21279658e-02 -4.54409474e-02  9.69239659e-02 -7.11824566e-02\n",
      "   4.21369069e-01 -8.90217926e-03  1.70689051e-01  3.06681988e-01]\n",
      " [-1.01543324e-02 -4.62774774e-02  9.77341212e-02 -7.20057993e-02\n",
      "   3.54842169e-01 -7.90276742e-03  1.42382609e-01  2.80702531e-01]\n",
      " [-8.48776149e-03 -4.69886729e-02  9.84160957e-02 -7.27023843e-02\n",
      "   2.98278657e-01 -6.96141210e-03  1.18740342e-01  2.54674395e-01]\n",
      " [-7.08418113e-03 -4.75909790e-02  9.89854039e-02 -7.32881915e-02\n",
      "   2.50369935e-01 -6.08793334e-03  9.89971387e-02  2.29062235e-01]\n",
      " [-5.90475829e-03 -4.80993871e-02  9.94559570e-02 -7.37776720e-02\n",
      "   2.09922969e-01 -5.28863856e-03  8.25129519e-02  2.04295736e-01]\n",
      " [-4.91560236e-03 -4.85273267e-02  9.98399232e-02 -7.41836249e-02\n",
      "   1.75868850e-01 -4.56648838e-03  6.87527180e-02  1.80744382e-01]\n",
      " [-4.08737562e-03 -4.88866602e-02  1.00147687e-01 -7.45171734e-02\n",
      "   1.47263074e-01 -3.92151015e-03  5.72692236e-02  1.58699843e-01]\n",
      " [-3.39485522e-03 -4.91877484e-02  1.00387866e-01 -7.47878070e-02\n",
      "   1.23280334e-01 -3.35135706e-03  4.76886246e-02  1.38367452e-01]\n",
      " [-2.81648090e-03 -4.94395554e-02  1.00567365e-01 -7.50034602e-02\n",
      "   1.03205985e-01 -2.85191726e-03  3.96983051e-02  1.19866509e-01]\n",
      " [-2.33391215e-03 -4.96497775e-02  1.00691440e-01 -7.51706089e-02\n",
      "   8.64257611e-02 -2.41789843e-03  3.30367519e-02  1.03237779e-01]\n",
      " [-1.93161054e-03 -4.98249779e-02  1.00763758e-01 -7.52943677e-02\n",
      "   7.24148539e-02 -2.04333942e-03  2.74851381e-02  8.84558254e-02]]\n"
     ]
    }
   ],
   "source": [
    "# Define alphas for ridge regression.  Initialize an empty list to hold our coefficients\n",
    "alphas = np.logspace(start = -4, stop = 4, num = 100) # Alphas from 0.0001 to 10,000\n",
    "coefficients = []\n",
    "\n",
    "# Fit a ridge model for each alpha and collect coefficients\n",
    "for alpha in alphas:\n",
    "    ridge = Ridge(alpha = alpha)\n",
    "    ridge.fit(X, Y)\n",
    "    coefficients.append(ridge.coef_)\n",
    "\n",
    "coefficients = np.array(coefficients)\n",
    "print(coefficients)"
   ]
  },
  {
   "cell_type": "markdown",
   "id": "2f4209c1",
   "metadata": {},
   "source": [
    "### Step 7: Plot ridge coefficients vs. lambda"
   ]
  },
  {
   "cell_type": "code",
   "execution_count": 8,
   "id": "9f286aa4",
   "metadata": {
    "tags": []
   },
   "outputs": [
    {
     "data": {
      "image/png": "[encoded data removed]",
      "text/plain": [
       "<Figure size 1000x600 with 1 Axes>"
      ]
     },
     "metadata": {},
     "output_type": "display_data"
    }
   ],
   "source": [
    "# Plot coefficients vs. alpha. Another for loop may be in order\n",
    "plt.figure(figsize = (10, 6))\n",
    "\n",
    "# Iterate over the number of features\n",
    "for i in range(coefficients.shape[1]):\n",
    "    plt.plot(alphas, coefficients[:, i], label = f\"Feature {i+1}\")\n",
    "         \n",
    "# Use a log scale for the alpha values\n",
    "plt.xscale('log')\n",
    "\n",
    "# Add a title\n",
    "plt.title(\"Coefficients vs. Alpha\")\n",
    "\n",
    "# Add labels\n",
    "plt.xlabel(\"Alpha (λ)\")\n",
    "plt.ylabel(\"Coefficient Value\")\n",
    "\n",
    "# Add a horizontal, dashed line at 0\n",
    "plt.axhline(0, color = 'black', linestyle = \"dashed\", linewidth = 2)\n",
    "\n",
    "# Add a legend\n",
    "plt.legend(loc = \"lower right\")\n",
    "\n",
    "# Show the plot\n",
    "plt.show()"
   ]
  },
  {
   "cell_type": "markdown",
   "id": "fb7d6b08",
   "metadata": {},
   "source": [
    "### Step 8: Run a full cross-validated ridge model using RidgeCV"
   ]
  },
  {
   "cell_type": "code",
   "execution_count": 9,
   "id": "dd16f9a2",
   "metadata": {
    "tags": []
   },
   "outputs": [
    {
     "name": "stdout",
     "output_type": "stream",
     "text": [
      "Optimal alpha: 0.0009326033468832199\n",
      "Coefficients corresponding to optimal alpha: [-6.28541014e+01 -6.07037123e-02  3.71830606e-02 -4.89433882e-02\n",
      "  4.14649999e+00 -2.33020539e-02  1.99290977e+01  2.30849986e-01]\n",
      "MSE: 8.840333640927414\n"
     ]
    }
   ],
   "source": [
    "# Fit a RidgeCV with cross-validation\n",
    "ridge_cv = RidgeCV(alphas = alphas, store_cv_values = True, cv = None)\n",
    "ridge_cv.fit(X_train, y_train)\n",
    "\n",
    "# Print the optimal alpha and coefficients corresponding to that alpha\n",
    "print(\"Optimal alpha:\", ridge_cv.alpha_)\n",
    "print(\"Coefficients corresponding to optimal alpha:\", ridge_cv.coef_)\n",
    "\n",
    "# Evaluate the model on the test set by predicting..\n",
    "y_test_pred = ridge_cv.predict(X_test)\n",
    "\n",
    "# ... and printing the MSE\n",
    "mse = mean_squared_error(y_test, y_test_pred)\n",
    "print(f\"MSE:\", mse)"
   ]
  },
  {
   "cell_type": "markdown",
   "id": "ae2d8b18-e8ed-4b95-8cd3-afc3dc83f456",
   "metadata": {},
   "source": [
    "### Step 9: Fit lasso regression using LassoCV"
   ]
  },
  {
   "cell_type": "code",
   "execution_count": 10,
   "id": "447a5a2e-1995-4f8c-9d5d-10f72c1d2f45",
   "metadata": {
    "tags": []
   },
   "outputs": [
    {
     "name": "stdout",
     "output_type": "stream",
     "text": [
      "Optimal alpha: 9.999999999999999e-05\n",
      "Coefficients corresponding to optimal alpha: [-6.29580955e+01 -7.98880746e-02  5.62414427e-02 -1.09228750e-02\n",
      "  4.14380494e+00 -2.32570486e-02  1.99249426e+01  2.30861944e-01]\n"
     ]
    }
   ],
   "source": [
    "# Fit lasso regression with cross-validation\n",
    "lasso_cv = LassoCV(alphas = alphas, cv = None, max_iter = 10000,)\n",
    "lasso_cv.fit(X_train, y_train)\n",
    "\n",
    "# Print the optimal alpha and associated coefficients\n",
    "print(\"Optimal alpha:\", lasso_cv.alpha_)\n",
    "print(\"Coefficients corresponding to optimal alpha:\", lasso_cv.coef_)"
   ]
  },
  {
   "cell_type": "markdown",
   "id": "9a4691e6-47ae-44ca-8446-9d950c1ea441",
   "metadata": {},
   "source": [
    "### Step 10: The \"one-standard error\" rule \n",
    "We can use 1-SE rule to trade off a small amount of accuracy for increased model simplicity and interpretability.  To do so, find the highest penalty value that falls within 1 standard error of the minimum MSE.  Hopefully it will reduce the number of features in the model."
   ]
  },
  {
   "cell_type": "code",
   "execution_count": 11,
   "id": "0a0c8a3f-40f1-41bd-b535-6a523f93672a",
   "metadata": {
    "tags": []
   },
   "outputs": [
    {
     "name": "stdout",
     "output_type": "stream",
     "text": [
      "remaining_features_1se: [2 4 6 7]\n"
     ]
    }
   ],
   "source": [
    "# Think: what is this code doing?\n",
    "lasso_best_alpha_1se = lasso_cv.alphas_[np.where(\n",
    "    lasso_cv.mse_path_.mean(axis=1) <= (lasso_cv.mse_path_.mean(axis=1).min() + lasso_cv.mse_path_.std(axis=1).mean())\n",
    ")[0][0]]\n",
    "\n",
    "# Fit a Lasso with this new alpha\n",
    "lasso_1se_model = LassoCV(alphas = [lasso_best_alpha_1se], cv = None, max_iter = 10000)\n",
    "lasso_1se_model.fit(X_train_scaled, y_train)\n",
    "\n",
    "# Identify remaining features for 1-SE rule (those with non-zero coefficients)\n",
    "remaining_features_1se = np.where(lasso_1se_model.coef_ != 0)[0]\n",
    "print(f\"remaining_features_1se:\", remaining_features_1se)"
   ]
  },
  {
   "cell_type": "markdown",
   "id": "9975e6f2-ae06-421c-a872-5fc08fc38573",
   "metadata": {
    "tags": []
   },
   "source": [
    "### Step 11: Compare the performance of your ridge and lasso regression models.\n"
   ]
  },
  {
   "cell_type": "markdown",
   "id": "bc65f94f",
   "metadata": {},
   "source": [
    "Ridge regression uses all features and shrinks the coefficients closer to zero without eliminating any. In contrast, lasso regression selects a subset of important features by setting some coefficients to exactly zero, which makes it effective for feature selection. For better interpretability and a simpler model, lasso is preferable, while ridge is better if all features are meaningful."
   ]
  }
 ],
 "metadata": {
  "kernelspec": {
   "display_name": "Anaconda 3 (EDS232)",
   "language": "python",
   "name": "ml-env"
  },
  "language_info": {
   "codemirror_mode": {
    "name": "ipython",
    "version": 3
   },
   "file_extension": ".py",
   "mimetype": "text/x-python",
   "name": "python",
   "nbconvert_exporter": "python",
   "pygments_lexer": "ipython3",
   "version": "3.10.16"
  }
 },
 "nbformat": 4,
 "nbformat_minor": 5
}
