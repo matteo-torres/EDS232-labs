{
 "cells": [
  {
   "cell_type": "markdown",
   "metadata": {},
   "source": [
    "# Lab 5: Species Distribution Modeling with Bagging \n",
    "Climate change and deforestation are accelerating ecosystem degradation, pushing animal species toward the brink of extinction. Understanding the distribution of animals and the factors that influence their ability to thrive in different environments is critical for conservation efforts. By studying these relationships, biological conservationists can develop informed strategies to protect endangered species and maintain biodiversity across diverse ecosystems.\n",
    "\n",
    "Species are defined by their behavioral, physiological, and ecological attributes, which shape their roles in ecosystems. In turn, ecosystems and their functions are deeply influenced by the species that inhabit them. This reciprocal relationship makes evaluating species' functional diversity and distributions essential for research in biogeography, community ecology, macroevolution, and conservation. Functional diversity is determined by traits such as diet, foraging strata, trophic level, activity cycle, litter size, generation length, habitat breadth, and body mass. These traits influence an animal’s ability to survive and adapt to different climates, playing a crucial role in ecosystem stability.\n",
    "\n",
    "In this lab, we will explore the connections between animal behaviors, functional traits, and species distributions across different climates."
   ]
  },
  {
   "cell_type": "code",
   "execution_count": 1,
   "metadata": {
    "tags": []
   },
   "outputs": [],
   "source": [
    "import numpy as np\n",
    "import pandas as pd\n",
    "import matplotlib.pyplot as plt\n",
    "import seaborn as sns\n",
    "from sklearn.ensemble import BaggingClassifier\n",
    "from sklearn.model_selection import train_test_split\n",
    "from sklearn.metrics import accuracy_score, roc_curve, auc, roc_auc_score\n",
    "from sklearn.preprocessing import StandardScaler, LabelEncoder\n",
    "from sklearn.inspection import permutation_importance\n",
    "from sklearn.utils import resample"
   ]
  },
  {
   "cell_type": "markdown",
   "metadata": {},
   "source": [
    "### Step 1: Standardizing column names\n",
    "\n",
    "The dataset contains several columns that describe different aspects of bird diets. These column names currently include spaces, colons (:), and special characters, which can make them difficult to work with in code.\n",
    "\n",
    "Load the dataset (BirdTraitData.csv) into a Pandas DataFrame.\n",
    "\n",
    "The 7 column names that start with \"Diet:\" should be renamed to simpler version starting with `Diet_` in a way that conforms with this list of key variables:\n",
    "\n",
    "`AdultBodyMass`, `DietBreadth`, `Diet_Invertebrates`, `Diet_Vertebrates`,`Diet_Fruits`, `Diet_Flowers`, `Diet_Seeds`, `Diet_Plants`, `Diet_Other`, `TrophicLevel`,`ActivityCycle`, `ForagingStratum`, `MigratoryStatus`,`IncubationTime`, `ClutchSize`, `EggLength`, `EggWidth`,`EggMass`, `NestingHabit`,`MaxLongevity`, `Subarid`\n",
    "\n",
    "Then select only that list of 21 key variables. **Print the head of your dataframe.** "
   ]
  },
  {
   "cell_type": "code",
   "execution_count": 2,
   "metadata": {
    "tags": []
   },
   "outputs": [
    {
     "data": {
      "text/plain": [
       "Index(['Order', 'Family', 'Genus', 'Species', 'Authority', 'CommonName',\n",
       "       'AdultBodyMass', 'DietBreadth', 'Diet: invertebrates',\n",
       "       'Diet: vertebrates', 'Diet: fruits', 'Diet: flower/nectar/pollen/gums',\n",
       "       'Diet: seeds', 'Diet: other plant materials',\n",
       "       'Diet: scavenge; garbage; carrion; offal; carcasses', 'TrophicLevel',\n",
       "       'ActivityCycle', 'ForagingStratum', 'MigratoryStatus', 'IncubationTime',\n",
       "       'ClutchSize', 'EggLength', 'EggWidth', 'EggMass', 'NestingHabit',\n",
       "       'MaxLongevity', 'Dry', 'Humid', 'Montane', 'Subarid', 'Subhumid',\n",
       "       'Alaotra.Mangoro', 'Amoron.i.Mania', 'Analamanga', 'Analanjirofo',\n",
       "       'Androy', 'Anosy', 'Atsimo.Andrefana', 'Atsimo.Atsinanana',\n",
       "       'Atsinanana', 'Betsiboka', 'Boeny', 'Bongolava', 'DIANA',\n",
       "       'Haute.Matsiatra', 'Ihorombe', 'Itasy', 'Melaky', 'Menabe', 'SAVA',\n",
       "       'Sofia', 'Vakinankaratra', 'Vatovavy.Fitovinany', 'Antananarivo',\n",
       "       'Antsiranana', 'Fianarantsoa', 'Mahajanga', 'Toamasina', 'Toliara',\n",
       "       'References'],\n",
       "      dtype='object')"
      ]
     },
     "execution_count": 2,
     "metadata": {},
     "output_type": "execute_result"
    }
   ],
   "source": [
    "# Read data\n",
    "bird_data = pd.read_csv(\"BirdTraitData.csv\", encoding = \"unicode_escape\")\n",
    "\n",
    "# Look at the column names\n",
    "bird_data.columns"
   ]
  },
  {
   "cell_type": "code",
   "execution_count": 3,
   "metadata": {
    "tags": []
   },
   "outputs": [
    {
     "data": {
      "text/plain": [
       "Index(['order', 'family', 'genus', 'species', 'authority', 'commonname',\n",
       "       'adultbodymass', 'dietbreadth', 'diet_invertebrates',\n",
       "       'diet_vertebrates', 'diet_fruits', 'diet_flowers', 'diet_seeds',\n",
       "       'diet_plants', 'diet_other', 'trophiclevel', 'activitycycle',\n",
       "       'foragingstratum', 'migratorystatus', 'incubationtime', 'clutchsize',\n",
       "       'egglength', 'eggwidth', 'eggmass', 'nestinghabit', 'maxlongevity',\n",
       "       'dry', 'humid', 'montane', 'subarid', 'subhumid', 'alaotra.mangoro',\n",
       "       'amoron.i.mania', 'analamanga', 'analanjirofo', 'androy', 'anosy',\n",
       "       'atsimo.andrefana', 'atsimo.atsinanana', 'atsinanana', 'betsiboka',\n",
       "       'boeny', 'bongolava', 'diana', 'haute.matsiatra', 'ihorombe', 'itasy',\n",
       "       'melaky', 'menabe', 'sava', 'sofia', 'vakinankaratra',\n",
       "       'vatovavy.fitovinany', 'antananarivo', 'antsiranana', 'fianarantsoa',\n",
       "       'mahajanga', 'toamasina', 'toliara', 'references'],\n",
       "      dtype='object')"
      ]
     },
     "execution_count": 3,
     "metadata": {},
     "output_type": "execute_result"
    }
   ],
   "source": [
    "# Convert to lower snake case\n",
    "bird_data.columns = bird_data.columns.str.replace(\"Diet: \", \"Diet_\").str.lower()\n",
    "\n",
    "# Simplify column names\n",
    "bird_data = bird_data.rename(columns = {\"diet_flower/nectar/pollen/gums\": \"diet_flowers\", \n",
    "                                        \"diet_other plant materials\": \"diet_plants\",\n",
    "                                        \"diet_scavenge; garbage; carrion; offal; carcasses\": \"diet_other\"})\n",
    "\n",
    "# Verify\n",
    "bird_data.columns"
   ]
  },
  {
   "cell_type": "code",
   "execution_count": 4,
   "metadata": {
    "tags": []
   },
   "outputs": [
    {
     "data": {
      "text/html": [
       "<div>\n",
       "<style scoped>\n",
       "    .dataframe tbody tr th:only-of-type {\n",
       "        vertical-align: middle;\n",
       "    }\n",
       "\n",
       "    .dataframe tbody tr th {\n",
       "        vertical-align: top;\n",
       "    }\n",
       "\n",
       "    .dataframe thead th {\n",
       "        text-align: right;\n",
       "    }\n",
       "</style>\n",
       "<table border=\"1\" class=\"dataframe\">\n",
       "  <thead>\n",
       "    <tr style=\"text-align: right;\">\n",
       "      <th></th>\n",
       "      <th>adultbodymass</th>\n",
       "      <th>dietbreadth</th>\n",
       "      <th>diet_invertebrates</th>\n",
       "      <th>diet_vertebrates</th>\n",
       "      <th>diet_fruits</th>\n",
       "      <th>diet_flowers</th>\n",
       "      <th>diet_seeds</th>\n",
       "      <th>diet_plants</th>\n",
       "      <th>diet_other</th>\n",
       "      <th>trophiclevel</th>\n",
       "      <th>...</th>\n",
       "      <th>foragingstratum</th>\n",
       "      <th>migratorystatus</th>\n",
       "      <th>incubationtime</th>\n",
       "      <th>clutchsize</th>\n",
       "      <th>egglength</th>\n",
       "      <th>eggwidth</th>\n",
       "      <th>eggmass</th>\n",
       "      <th>nestinghabit</th>\n",
       "      <th>maxlongevity</th>\n",
       "      <th>subarid</th>\n",
       "    </tr>\n",
       "  </thead>\n",
       "  <tbody>\n",
       "    <tr>\n",
       "      <th>0</th>\n",
       "      <td>138.5</td>\n",
       "      <td>2</td>\n",
       "      <td>yes</td>\n",
       "      <td>yes</td>\n",
       "      <td>no</td>\n",
       "      <td>no</td>\n",
       "      <td>no</td>\n",
       "      <td>no</td>\n",
       "      <td>no</td>\n",
       "      <td>3</td>\n",
       "      <td>...</td>\n",
       "      <td>3</td>\n",
       "      <td>no</td>\n",
       "      <td>31.0</td>\n",
       "      <td>3.0</td>\n",
       "      <td>3.85</td>\n",
       "      <td>-999.00</td>\n",
       "      <td>-999.0</td>\n",
       "      <td>arboreal</td>\n",
       "      <td>-999.0</td>\n",
       "      <td>1</td>\n",
       "    </tr>\n",
       "    <tr>\n",
       "      <th>1</th>\n",
       "      <td>1050.0</td>\n",
       "      <td>1</td>\n",
       "      <td>no</td>\n",
       "      <td>yes</td>\n",
       "      <td>no</td>\n",
       "      <td>no</td>\n",
       "      <td>no</td>\n",
       "      <td>no</td>\n",
       "      <td>no</td>\n",
       "      <td>3</td>\n",
       "      <td>...</td>\n",
       "      <td>3</td>\n",
       "      <td>no</td>\n",
       "      <td>39.5</td>\n",
       "      <td>2.5</td>\n",
       "      <td>58.50</td>\n",
       "      <td>46.95</td>\n",
       "      <td>-999.0</td>\n",
       "      <td>arboreal</td>\n",
       "      <td>-999.0</td>\n",
       "      <td>1</td>\n",
       "    </tr>\n",
       "    <tr>\n",
       "      <th>2</th>\n",
       "      <td>181.0</td>\n",
       "      <td>2</td>\n",
       "      <td>yes</td>\n",
       "      <td>yes</td>\n",
       "      <td>no</td>\n",
       "      <td>no</td>\n",
       "      <td>no</td>\n",
       "      <td>no</td>\n",
       "      <td>no</td>\n",
       "      <td>3</td>\n",
       "      <td>...</td>\n",
       "      <td>3</td>\n",
       "      <td>no</td>\n",
       "      <td>35.0</td>\n",
       "      <td>2.5</td>\n",
       "      <td>38.35</td>\n",
       "      <td>31.90</td>\n",
       "      <td>-999.0</td>\n",
       "      <td>arboreal</td>\n",
       "      <td>-999.0</td>\n",
       "      <td>1</td>\n",
       "    </tr>\n",
       "    <tr>\n",
       "      <th>3</th>\n",
       "      <td>292.0</td>\n",
       "      <td>2</td>\n",
       "      <td>yes</td>\n",
       "      <td>yes</td>\n",
       "      <td>no</td>\n",
       "      <td>no</td>\n",
       "      <td>no</td>\n",
       "      <td>no</td>\n",
       "      <td>no</td>\n",
       "      <td>3</td>\n",
       "      <td>...</td>\n",
       "      <td>3</td>\n",
       "      <td>no</td>\n",
       "      <td>31.0</td>\n",
       "      <td>1.5</td>\n",
       "      <td>43.70</td>\n",
       "      <td>35.20</td>\n",
       "      <td>29.1</td>\n",
       "      <td>arboreal</td>\n",
       "      <td>-999.0</td>\n",
       "      <td>1</td>\n",
       "    </tr>\n",
       "    <tr>\n",
       "      <th>4</th>\n",
       "      <td>511.0</td>\n",
       "      <td>2</td>\n",
       "      <td>yes</td>\n",
       "      <td>yes</td>\n",
       "      <td>no</td>\n",
       "      <td>no</td>\n",
       "      <td>no</td>\n",
       "      <td>no</td>\n",
       "      <td>no</td>\n",
       "      <td>3</td>\n",
       "      <td>...</td>\n",
       "      <td>4</td>\n",
       "      <td>no</td>\n",
       "      <td>35.5</td>\n",
       "      <td>2.0</td>\n",
       "      <td>54.50</td>\n",
       "      <td>45.00</td>\n",
       "      <td>-999.0</td>\n",
       "      <td>arboreal</td>\n",
       "      <td>144.0</td>\n",
       "      <td>1</td>\n",
       "    </tr>\n",
       "  </tbody>\n",
       "</table>\n",
       "<p>5 rows × 21 columns</p>\n",
       "</div>"
      ],
      "text/plain": [
       "   adultbodymass  dietbreadth diet_invertebrates diet_vertebrates diet_fruits  \\\n",
       "0          138.5            2                yes              yes          no   \n",
       "1         1050.0            1                 no              yes          no   \n",
       "2          181.0            2                yes              yes          no   \n",
       "3          292.0            2                yes              yes          no   \n",
       "4          511.0            2                yes              yes          no   \n",
       "\n",
       "  diet_flowers diet_seeds diet_plants diet_other  trophiclevel  ...  \\\n",
       "0           no         no          no         no             3  ...   \n",
       "1           no         no          no         no             3  ...   \n",
       "2           no         no          no         no             3  ...   \n",
       "3           no         no          no         no             3  ...   \n",
       "4           no         no          no         no             3  ...   \n",
       "\n",
       "   foragingstratum  migratorystatus incubationtime  clutchsize  egglength  \\\n",
       "0                3               no           31.0         3.0       3.85   \n",
       "1                3               no           39.5         2.5      58.50   \n",
       "2                3               no           35.0         2.5      38.35   \n",
       "3                3               no           31.0         1.5      43.70   \n",
       "4                4               no           35.5         2.0      54.50   \n",
       "\n",
       "   eggwidth  eggmass  nestinghabit maxlongevity  subarid  \n",
       "0   -999.00   -999.0      arboreal       -999.0        1  \n",
       "1     46.95   -999.0      arboreal       -999.0        1  \n",
       "2     31.90   -999.0      arboreal       -999.0        1  \n",
       "3     35.20     29.1      arboreal       -999.0        1  \n",
       "4     45.00   -999.0      arboreal        144.0        1  \n",
       "\n",
       "[5 rows x 21 columns]"
      ]
     },
     "execution_count": 4,
     "metadata": {},
     "output_type": "execute_result"
    }
   ],
   "source": [
    "# Select 21 key variables (columns)\n",
    "bird_data = bird_data.loc[:, \"adultbodymass\": \"subarid\"].drop(columns = [\"dry\", \"humid\", \"montane\"])\n",
    "\n",
    "# Look at the first 5 rows\n",
    "bird_data.head()"
   ]
  },
  {
   "cell_type": "markdown",
   "metadata": {},
   "source": [
    "### Step 2: Encode categorical variables\n",
    "In our dataset, some columns contain categorical (non-numeric) data, such as species names or habitat types that need to be converted to numerical representations. Let's use label encoding to assign a unique number to each category in a column.\n",
    "\n",
    "Encode the data using this process:\n",
    "1. Find all categorical columns in df using `.select_dtypes(include=['object'])`\n",
    "2. Loop through each categorical column and apply `LabelEncoder()`\n",
    "3. Replace the original categorical columns with their encoded values.\n",
    "4. Print the head of your dataframe to ensure that labels were in fact encoded. "
   ]
  },
  {
   "cell_type": "code",
   "execution_count": 5,
   "metadata": {
    "tags": []
   },
   "outputs": [
    {
     "data": {
      "text/html": [
       "<div>\n",
       "<style scoped>\n",
       "    .dataframe tbody tr th:only-of-type {\n",
       "        vertical-align: middle;\n",
       "    }\n",
       "\n",
       "    .dataframe tbody tr th {\n",
       "        vertical-align: top;\n",
       "    }\n",
       "\n",
       "    .dataframe thead th {\n",
       "        text-align: right;\n",
       "    }\n",
       "</style>\n",
       "<table border=\"1\" class=\"dataframe\">\n",
       "  <thead>\n",
       "    <tr style=\"text-align: right;\">\n",
       "      <th></th>\n",
       "      <th>diet_invertebrates</th>\n",
       "      <th>diet_vertebrates</th>\n",
       "      <th>diet_fruits</th>\n",
       "      <th>diet_flowers</th>\n",
       "      <th>diet_seeds</th>\n",
       "      <th>diet_plants</th>\n",
       "      <th>diet_other</th>\n",
       "      <th>migratorystatus</th>\n",
       "      <th>nestinghabit</th>\n",
       "    </tr>\n",
       "  </thead>\n",
       "  <tbody>\n",
       "    <tr>\n",
       "      <th>0</th>\n",
       "      <td>yes</td>\n",
       "      <td>yes</td>\n",
       "      <td>no</td>\n",
       "      <td>no</td>\n",
       "      <td>no</td>\n",
       "      <td>no</td>\n",
       "      <td>no</td>\n",
       "      <td>no</td>\n",
       "      <td>arboreal</td>\n",
       "    </tr>\n",
       "    <tr>\n",
       "      <th>1</th>\n",
       "      <td>no</td>\n",
       "      <td>yes</td>\n",
       "      <td>no</td>\n",
       "      <td>no</td>\n",
       "      <td>no</td>\n",
       "      <td>no</td>\n",
       "      <td>no</td>\n",
       "      <td>no</td>\n",
       "      <td>arboreal</td>\n",
       "    </tr>\n",
       "    <tr>\n",
       "      <th>2</th>\n",
       "      <td>yes</td>\n",
       "      <td>yes</td>\n",
       "      <td>no</td>\n",
       "      <td>no</td>\n",
       "      <td>no</td>\n",
       "      <td>no</td>\n",
       "      <td>no</td>\n",
       "      <td>no</td>\n",
       "      <td>arboreal</td>\n",
       "    </tr>\n",
       "    <tr>\n",
       "      <th>3</th>\n",
       "      <td>yes</td>\n",
       "      <td>yes</td>\n",
       "      <td>no</td>\n",
       "      <td>no</td>\n",
       "      <td>no</td>\n",
       "      <td>no</td>\n",
       "      <td>no</td>\n",
       "      <td>no</td>\n",
       "      <td>arboreal</td>\n",
       "    </tr>\n",
       "    <tr>\n",
       "      <th>4</th>\n",
       "      <td>yes</td>\n",
       "      <td>yes</td>\n",
       "      <td>no</td>\n",
       "      <td>no</td>\n",
       "      <td>no</td>\n",
       "      <td>no</td>\n",
       "      <td>no</td>\n",
       "      <td>no</td>\n",
       "      <td>arboreal</td>\n",
       "    </tr>\n",
       "  </tbody>\n",
       "</table>\n",
       "</div>"
      ],
      "text/plain": [
       "  diet_invertebrates diet_vertebrates diet_fruits diet_flowers diet_seeds  \\\n",
       "0                yes              yes          no           no         no   \n",
       "1                 no              yes          no           no         no   \n",
       "2                yes              yes          no           no         no   \n",
       "3                yes              yes          no           no         no   \n",
       "4                yes              yes          no           no         no   \n",
       "\n",
       "  diet_plants diet_other migratorystatus nestinghabit  \n",
       "0          no         no              no     arboreal  \n",
       "1          no         no              no     arboreal  \n",
       "2          no         no              no     arboreal  \n",
       "3          no         no              no     arboreal  \n",
       "4          no         no              no     arboreal  "
      ]
     },
     "execution_count": 5,
     "metadata": {},
     "output_type": "execute_result"
    }
   ],
   "source": [
    "# Identify categorical columns\n",
    "bird_data.select_dtypes(include = [\"object\"]).head()"
   ]
  },
  {
   "cell_type": "code",
   "execution_count": 6,
   "metadata": {
    "tags": []
   },
   "outputs": [
    {
     "data": {
      "text/plain": [
       "adultbodymass         float64\n",
       "dietbreadth             int64\n",
       "diet_invertebrates      int64\n",
       "diet_vertebrates        int64\n",
       "diet_fruits             int64\n",
       "diet_flowers            int64\n",
       "diet_seeds              int64\n",
       "diet_plants             int64\n",
       "diet_other              int64\n",
       "trophiclevel            int64\n",
       "activitycycle           int64\n",
       "foragingstratum         int64\n",
       "migratorystatus         int64\n",
       "incubationtime        float64\n",
       "clutchsize            float64\n",
       "egglength             float64\n",
       "eggwidth              float64\n",
       "eggmass               float64\n",
       "nestinghabit            int64\n",
       "maxlongevity          float64\n",
       "subarid                 int64\n",
       "dtype: object"
      ]
     },
     "execution_count": 6,
     "metadata": {},
     "output_type": "execute_result"
    }
   ],
   "source": [
    "# Apply LabelEncoder to each categorical column\n",
    "for col in bird_data.select_dtypes(include = [\"object\"]):\n",
    "    \n",
    "    label_encoders = {}\n",
    "    le = LabelEncoder()\n",
    "    bird_data[col] = le.fit_transform(bird_data[col])\n",
    "    label_encoders[col] = le\n",
    "\n",
    "# Verify\n",
    "bird_data.dtypes"
   ]
  },
  {
   "cell_type": "code",
   "execution_count": 7,
   "metadata": {
    "tags": []
   },
   "outputs": [
    {
     "data": {
      "text/plain": [
       "adultbodymass           2\n",
       "dietbreadth             3\n",
       "diet_invertebrates      0\n",
       "diet_vertebrates        0\n",
       "diet_fruits             0\n",
       "diet_flowers            0\n",
       "diet_seeds              0\n",
       "diet_plants             0\n",
       "diet_other              0\n",
       "trophiclevel            3\n",
       "activitycycle          14\n",
       "foragingstratum         6\n",
       "migratorystatus         0\n",
       "incubationtime        100\n",
       "clutchsize             28\n",
       "egglength             134\n",
       "eggwidth              136\n",
       "eggmass               115\n",
       "nestinghabit            0\n",
       "maxlongevity          172\n",
       "subarid                 0\n",
       "dtype: int64"
      ]
     },
     "execution_count": 7,
     "metadata": {},
     "output_type": "execute_result"
    }
   ],
   "source": [
    "# Check for NAs (-999.0)\n",
    "bird_data[bird_data == -999.0].count()"
   ]
  },
  {
   "cell_type": "code",
   "execution_count": 8,
   "metadata": {
    "tags": []
   },
   "outputs": [
    {
     "data": {
      "text/plain": [
       "adultbodymass           2\n",
       "dietbreadth             3\n",
       "diet_invertebrates      0\n",
       "diet_vertebrates        0\n",
       "diet_fruits             0\n",
       "diet_flowers            0\n",
       "diet_seeds              0\n",
       "diet_plants             0\n",
       "diet_other              0\n",
       "trophiclevel            3\n",
       "activitycycle          14\n",
       "foragingstratum         6\n",
       "migratorystatus         0\n",
       "incubationtime        100\n",
       "clutchsize             28\n",
       "egglength             134\n",
       "eggwidth              136\n",
       "eggmass               115\n",
       "nestinghabit            0\n",
       "maxlongevity          172\n",
       "subarid                 0\n",
       "dtype: int64"
      ]
     },
     "execution_count": 8,
     "metadata": {},
     "output_type": "execute_result"
    }
   ],
   "source": [
    "# Replace -999.0 with NaN\n",
    "bird_data.replace(-999.0, np.nan, inplace = True)\n",
    "\n",
    "# Verify the replacement\n",
    "bird_data.isna().sum()"
   ]
  },
  {
   "cell_type": "code",
   "execution_count": 9,
   "metadata": {
    "tags": []
   },
   "outputs": [
    {
     "data": {
      "text/plain": [
       "adultbodymass         0\n",
       "dietbreadth           0\n",
       "diet_invertebrates    0\n",
       "diet_vertebrates      0\n",
       "diet_fruits           0\n",
       "diet_flowers          0\n",
       "diet_seeds            0\n",
       "diet_plants           0\n",
       "diet_other            0\n",
       "trophiclevel          0\n",
       "activitycycle         0\n",
       "foragingstratum       0\n",
       "migratorystatus       0\n",
       "incubationtime        0\n",
       "clutchsize            0\n",
       "egglength             0\n",
       "eggwidth              0\n",
       "eggmass               0\n",
       "nestinghabit          0\n",
       "maxlongevity          0\n",
       "subarid               0\n",
       "dtype: int64"
      ]
     },
     "execution_count": 9,
     "metadata": {},
     "output_type": "execute_result"
    }
   ],
   "source": [
    "# Impute using mode\n",
    "bird_data = bird_data.fillna(bird_data.mode().iloc[0])\n",
    "\n",
    "# Check to make sure there are no NAs\n",
    "bird_data[bird_data == -999.0].count()"
   ]
  },
  {
   "cell_type": "code",
   "execution_count": 10,
   "metadata": {
    "tags": []
   },
   "outputs": [
    {
     "data": {
      "text/html": [
       "<div>\n",
       "<style scoped>\n",
       "    .dataframe tbody tr th:only-of-type {\n",
       "        vertical-align: middle;\n",
       "    }\n",
       "\n",
       "    .dataframe tbody tr th {\n",
       "        vertical-align: top;\n",
       "    }\n",
       "\n",
       "    .dataframe thead th {\n",
       "        text-align: right;\n",
       "    }\n",
       "</style>\n",
       "<table border=\"1\" class=\"dataframe\">\n",
       "  <thead>\n",
       "    <tr style=\"text-align: right;\">\n",
       "      <th></th>\n",
       "      <th>adultbodymass</th>\n",
       "      <th>dietbreadth</th>\n",
       "      <th>diet_invertebrates</th>\n",
       "      <th>diet_vertebrates</th>\n",
       "      <th>diet_fruits</th>\n",
       "      <th>diet_flowers</th>\n",
       "      <th>diet_seeds</th>\n",
       "      <th>diet_plants</th>\n",
       "      <th>diet_other</th>\n",
       "      <th>trophiclevel</th>\n",
       "      <th>...</th>\n",
       "      <th>foragingstratum</th>\n",
       "      <th>migratorystatus</th>\n",
       "      <th>incubationtime</th>\n",
       "      <th>clutchsize</th>\n",
       "      <th>egglength</th>\n",
       "      <th>eggwidth</th>\n",
       "      <th>eggmass</th>\n",
       "      <th>nestinghabit</th>\n",
       "      <th>maxlongevity</th>\n",
       "      <th>subarid</th>\n",
       "    </tr>\n",
       "  </thead>\n",
       "  <tbody>\n",
       "    <tr>\n",
       "      <th>0</th>\n",
       "      <td>138.5</td>\n",
       "      <td>2.0</td>\n",
       "      <td>2</td>\n",
       "      <td>2</td>\n",
       "      <td>1</td>\n",
       "      <td>1</td>\n",
       "      <td>1</td>\n",
       "      <td>1</td>\n",
       "      <td>1</td>\n",
       "      <td>3.0</td>\n",
       "      <td>...</td>\n",
       "      <td>3.0</td>\n",
       "      <td>0</td>\n",
       "      <td>31.0</td>\n",
       "      <td>3.0</td>\n",
       "      <td>3.85</td>\n",
       "      <td>40.00</td>\n",
       "      <td>13.5</td>\n",
       "      <td>2</td>\n",
       "      <td>134.4</td>\n",
       "      <td>1</td>\n",
       "    </tr>\n",
       "    <tr>\n",
       "      <th>1</th>\n",
       "      <td>1050.0</td>\n",
       "      <td>1.0</td>\n",
       "      <td>1</td>\n",
       "      <td>2</td>\n",
       "      <td>1</td>\n",
       "      <td>1</td>\n",
       "      <td>1</td>\n",
       "      <td>1</td>\n",
       "      <td>1</td>\n",
       "      <td>3.0</td>\n",
       "      <td>...</td>\n",
       "      <td>3.0</td>\n",
       "      <td>0</td>\n",
       "      <td>39.5</td>\n",
       "      <td>2.5</td>\n",
       "      <td>58.50</td>\n",
       "      <td>46.95</td>\n",
       "      <td>13.5</td>\n",
       "      <td>2</td>\n",
       "      <td>134.4</td>\n",
       "      <td>1</td>\n",
       "    </tr>\n",
       "    <tr>\n",
       "      <th>2</th>\n",
       "      <td>181.0</td>\n",
       "      <td>2.0</td>\n",
       "      <td>2</td>\n",
       "      <td>2</td>\n",
       "      <td>1</td>\n",
       "      <td>1</td>\n",
       "      <td>1</td>\n",
       "      <td>1</td>\n",
       "      <td>1</td>\n",
       "      <td>3.0</td>\n",
       "      <td>...</td>\n",
       "      <td>3.0</td>\n",
       "      <td>0</td>\n",
       "      <td>35.0</td>\n",
       "      <td>2.5</td>\n",
       "      <td>38.35</td>\n",
       "      <td>31.90</td>\n",
       "      <td>13.5</td>\n",
       "      <td>2</td>\n",
       "      <td>134.4</td>\n",
       "      <td>1</td>\n",
       "    </tr>\n",
       "    <tr>\n",
       "      <th>3</th>\n",
       "      <td>292.0</td>\n",
       "      <td>2.0</td>\n",
       "      <td>2</td>\n",
       "      <td>2</td>\n",
       "      <td>1</td>\n",
       "      <td>1</td>\n",
       "      <td>1</td>\n",
       "      <td>1</td>\n",
       "      <td>1</td>\n",
       "      <td>3.0</td>\n",
       "      <td>...</td>\n",
       "      <td>3.0</td>\n",
       "      <td>0</td>\n",
       "      <td>31.0</td>\n",
       "      <td>1.5</td>\n",
       "      <td>43.70</td>\n",
       "      <td>35.20</td>\n",
       "      <td>29.1</td>\n",
       "      <td>2</td>\n",
       "      <td>134.4</td>\n",
       "      <td>1</td>\n",
       "    </tr>\n",
       "    <tr>\n",
       "      <th>4</th>\n",
       "      <td>511.0</td>\n",
       "      <td>2.0</td>\n",
       "      <td>2</td>\n",
       "      <td>2</td>\n",
       "      <td>1</td>\n",
       "      <td>1</td>\n",
       "      <td>1</td>\n",
       "      <td>1</td>\n",
       "      <td>1</td>\n",
       "      <td>3.0</td>\n",
       "      <td>...</td>\n",
       "      <td>4.0</td>\n",
       "      <td>0</td>\n",
       "      <td>35.5</td>\n",
       "      <td>2.0</td>\n",
       "      <td>54.50</td>\n",
       "      <td>45.00</td>\n",
       "      <td>13.5</td>\n",
       "      <td>2</td>\n",
       "      <td>144.0</td>\n",
       "      <td>1</td>\n",
       "    </tr>\n",
       "  </tbody>\n",
       "</table>\n",
       "<p>5 rows × 21 columns</p>\n",
       "</div>"
      ],
      "text/plain": [
       "   adultbodymass  dietbreadth  diet_invertebrates  diet_vertebrates  \\\n",
       "0          138.5          2.0                   2                 2   \n",
       "1         1050.0          1.0                   1                 2   \n",
       "2          181.0          2.0                   2                 2   \n",
       "3          292.0          2.0                   2                 2   \n",
       "4          511.0          2.0                   2                 2   \n",
       "\n",
       "   diet_fruits  diet_flowers  diet_seeds  diet_plants  diet_other  \\\n",
       "0            1             1           1            1           1   \n",
       "1            1             1           1            1           1   \n",
       "2            1             1           1            1           1   \n",
       "3            1             1           1            1           1   \n",
       "4            1             1           1            1           1   \n",
       "\n",
       "   trophiclevel  ...  foragingstratum  migratorystatus  incubationtime  \\\n",
       "0           3.0  ...              3.0                0            31.0   \n",
       "1           3.0  ...              3.0                0            39.5   \n",
       "2           3.0  ...              3.0                0            35.0   \n",
       "3           3.0  ...              3.0                0            31.0   \n",
       "4           3.0  ...              4.0                0            35.5   \n",
       "\n",
       "   clutchsize  egglength  eggwidth  eggmass  nestinghabit  maxlongevity  \\\n",
       "0         3.0       3.85     40.00     13.5             2         134.4   \n",
       "1         2.5      58.50     46.95     13.5             2         134.4   \n",
       "2         2.5      38.35     31.90     13.5             2         134.4   \n",
       "3         1.5      43.70     35.20     29.1             2         134.4   \n",
       "4         2.0      54.50     45.00     13.5             2         144.0   \n",
       "\n",
       "   subarid  \n",
       "0        1  \n",
       "1        1  \n",
       "2        1  \n",
       "3        1  \n",
       "4        1  \n",
       "\n",
       "[5 rows x 21 columns]"
      ]
     },
     "execution_count": 10,
     "metadata": {},
     "output_type": "execute_result"
    }
   ],
   "source": [
    "# Look at the first 5 rows\n",
    "bird_data.head()"
   ]
  },
  {
   "cell_type": "markdown",
   "metadata": {},
   "source": [
    "### Step 3: Defining features, splitting data, and training a bagging classifier\n",
    "Our goal for this analysis is to predict whether a given bird species is present in Subarid climate zones. \n",
    "\n",
    "1. Drop the corresponding variable from the features (X) and define it as the target (y). Then perform the train-test split with 70/30 train/test and a random state of 808.\n",
    "\n",
    "2. Initialize a bagging classifier with 100 trees, `oob_score =True`, `bootstrap = True` and `random_state = 808`.  \n",
    "\n",
    "3. Train the model."
   ]
  },
  {
   "cell_type": "code",
   "execution_count": 11,
   "metadata": {
    "tags": []
   },
   "outputs": [],
   "source": [
    "# Define features and target\n",
    "X = bird_data.drop(columns = \"subarid\")\n",
    "y = bird_data[[\"subarid\"]]\n",
    "\n",
    "# Split into training and test sets\n",
    "X_train, X_test, y_train, y_test = train_test_split(X, y, test_size = 0.3, random_state = 808)"
   ]
  },
  {
   "cell_type": "code",
   "execution_count": 12,
   "metadata": {
    "tags": []
   },
   "outputs": [],
   "source": [
    "# Initialize Bagging Classifier\n",
    "bagging = BaggingClassifier(n_estimators = 100,\n",
    "                            oob_score = True,\n",
    "                            bootstrap = True,\n",
    "                            random_state = 808)"
   ]
  },
  {
   "cell_type": "code",
   "execution_count": 13,
   "metadata": {
    "tags": []
   },
   "outputs": [
    {
     "name": "stderr",
     "output_type": "stream",
     "text": [
      "/opt/anaconda3/envs/ml-env/lib/python3.10/site-packages/sklearn/ensemble/_bagging.py:802: DataConversionWarning: A column-vector y was passed when a 1d array was expected. Please change the shape of y to (n_samples, ), for example using ravel().\n",
      "  y = column_or_1d(y, warn=True)\n"
     ]
    },
    {
     "data": {
      "text/html": [
       "<style>#sk-container-id-1 {color: black;}#sk-container-id-1 pre{padding: 0;}#sk-container-id-1 div.sk-toggleable {background-color: white;}#sk-container-id-1 label.sk-toggleable__label {cursor: pointer;display: block;width: 100%;margin-bottom: 0;padding: 0.3em;box-sizing: border-box;text-align: center;}#sk-container-id-1 label.sk-toggleable__label-arrow:before {content: \"▸\";float: left;margin-right: 0.25em;color: #696969;}#sk-container-id-1 label.sk-toggleable__label-arrow:hover:before {color: black;}#sk-container-id-1 div.sk-estimator:hover label.sk-toggleable__label-arrow:before {color: black;}#sk-container-id-1 div.sk-toggleable__content {max-height: 0;max-width: 0;overflow: hidden;text-align: left;background-color: #f0f8ff;}#sk-container-id-1 div.sk-toggleable__content pre {margin: 0.2em;color: black;border-radius: 0.25em;background-color: #f0f8ff;}#sk-container-id-1 input.sk-toggleable__control:checked~div.sk-toggleable__content {max-height: 200px;max-width: 100%;overflow: auto;}#sk-container-id-1 input.sk-toggleable__control:checked~label.sk-toggleable__label-arrow:before {content: \"▾\";}#sk-container-id-1 div.sk-estimator input.sk-toggleable__control:checked~label.sk-toggleable__label {background-color: #d4ebff;}#sk-container-id-1 div.sk-label input.sk-toggleable__control:checked~label.sk-toggleable__label {background-color: #d4ebff;}#sk-container-id-1 input.sk-hidden--visually {border: 0;clip: rect(1px 1px 1px 1px);clip: rect(1px, 1px, 1px, 1px);height: 1px;margin: -1px;overflow: hidden;padding: 0;position: absolute;width: 1px;}#sk-container-id-1 div.sk-estimator {font-family: monospace;background-color: #f0f8ff;border: 1px dotted black;border-radius: 0.25em;box-sizing: border-box;margin-bottom: 0.5em;}#sk-container-id-1 div.sk-estimator:hover {background-color: #d4ebff;}#sk-container-id-1 div.sk-parallel-item::after {content: \"\";width: 100%;border-bottom: 1px solid gray;flex-grow: 1;}#sk-container-id-1 div.sk-label:hover label.sk-toggleable__label {background-color: #d4ebff;}#sk-container-id-1 div.sk-serial::before {content: \"\";position: absolute;border-left: 1px solid gray;box-sizing: border-box;top: 0;bottom: 0;left: 50%;z-index: 0;}#sk-container-id-1 div.sk-serial {display: flex;flex-direction: column;align-items: center;background-color: white;padding-right: 0.2em;padding-left: 0.2em;position: relative;}#sk-container-id-1 div.sk-item {position: relative;z-index: 1;}#sk-container-id-1 div.sk-parallel {display: flex;align-items: stretch;justify-content: center;background-color: white;position: relative;}#sk-container-id-1 div.sk-item::before, #sk-container-id-1 div.sk-parallel-item::before {content: \"\";position: absolute;border-left: 1px solid gray;box-sizing: border-box;top: 0;bottom: 0;left: 50%;z-index: -1;}#sk-container-id-1 div.sk-parallel-item {display: flex;flex-direction: column;z-index: 1;position: relative;background-color: white;}#sk-container-id-1 div.sk-parallel-item:first-child::after {align-self: flex-end;width: 50%;}#sk-container-id-1 div.sk-parallel-item:last-child::after {align-self: flex-start;width: 50%;}#sk-container-id-1 div.sk-parallel-item:only-child::after {width: 0;}#sk-container-id-1 div.sk-dashed-wrapped {border: 1px dashed gray;margin: 0 0.4em 0.5em 0.4em;box-sizing: border-box;padding-bottom: 0.4em;background-color: white;}#sk-container-id-1 div.sk-label label {font-family: monospace;font-weight: bold;display: inline-block;line-height: 1.2em;}#sk-container-id-1 div.sk-label-container {text-align: center;}#sk-container-id-1 div.sk-container {/* jupyter's `normalize.less` sets `[hidden] { display: none; }` but bootstrap.min.css set `[hidden] { display: none !important; }` so we also need the `!important` here to be able to override the default hidden behavior on the sphinx rendered scikit-learn.org. See: https://github.com/scikit-learn/scikit-learn/issues/21755 */display: inline-block !important;position: relative;}#sk-container-id-1 div.sk-text-repr-fallback {display: none;}</style><div id=\"sk-container-id-1\" class=\"sk-top-container\"><div class=\"sk-text-repr-fallback\"><pre>BaggingClassifier(n_estimators=100, oob_score=True, random_state=808)</pre><b>In a Jupyter environment, please rerun this cell to show the HTML representation or trust the notebook. <br />On GitHub, the HTML representation is unable to render, please try loading this page with nbviewer.org.</b></div><div class=\"sk-container\" hidden><div class=\"sk-item\"><div class=\"sk-estimator sk-toggleable\"><input class=\"sk-toggleable__control sk-hidden--visually\" id=\"sk-estimator-id-1\" type=\"checkbox\" checked><label for=\"sk-estimator-id-1\" class=\"sk-toggleable__label sk-toggleable__label-arrow\">BaggingClassifier</label><div class=\"sk-toggleable__content\"><pre>BaggingClassifier(n_estimators=100, oob_score=True, random_state=808)</pre></div></div></div></div></div>"
      ],
      "text/plain": [
       "BaggingClassifier(n_estimators=100, oob_score=True, random_state=808)"
      ]
     },
     "execution_count": 13,
     "metadata": {},
     "output_type": "execute_result"
    }
   ],
   "source": [
    "# Train the model\n",
    "bagging.fit(X_train, y_train)"
   ]
  },
  {
   "cell_type": "markdown",
   "metadata": {},
   "source": [
    "### Step 4: Make predictions and evaluate the model\n",
    "\n",
    "1. Generate predictions\n",
    "- Use the trained bagging model to predict values for the test set (`X_test`).\n",
    "\n",
    "2. Calculate the Out-of-Bag (OOB) Score\n",
    "- The OOB score is an internal validation score computed using samples not included in bootstrapped subsets.\n",
    "\n",
    "3. Compute model accuracy\n",
    "- Print the OOB score and the bagging accuracy score."
   ]
  },
  {
   "cell_type": "code",
   "execution_count": 14,
   "metadata": {
    "tags": []
   },
   "outputs": [
    {
     "name": "stdout",
     "output_type": "stream",
     "text": [
      "OOB Score: 0.8698\n",
      "Bagging Accuracy: 0.9452\n"
     ]
    }
   ],
   "source": [
    "# Generate predictions\n",
    "bagging_preds = bagging.predict(X_test)\n",
    "\n",
    "# Calculate OOB score\n",
    "oob_score = bagging.oob_score_\n",
    "\n",
    "# Compute model accuracy\n",
    "accuracy = accuracy_score(y_test, bagging_preds)\n",
    "\n",
    "# Print OOB score and bagging accuracy score\n",
    "print(f\"OOB Score: {oob_score:.4f}\")\n",
    "print(f\"Bagging Accuracy: {accuracy:.4f}\")"
   ]
  },
  {
   "cell_type": "markdown",
   "metadata": {},
   "source": [
    "### Step 5: Calculate and plot ROC curve\n",
    "\n",
    "- Use `label=f\"Bagging (AUC = {roc_auc_bagging:.2f})\"` to include the AUC value in the plot."
   ]
  },
  {
   "cell_type": "code",
   "execution_count": 15,
   "metadata": {
    "tags": []
   },
   "outputs": [
    {
     "name": "stdout",
     "output_type": "stream",
     "text": [
      "Bagging AUC: 0.7562\n"
     ]
    }
   ],
   "source": [
    "# Calculate AUC\n",
    "roc_auc_bagging = roc_auc_score(y_test, bagging.predict_proba(X_test)[:, 1])\n",
    "\n",
    "# Print AUC\n",
    "print(f\"Bagging AUC: {roc_auc_bagging:.4f}\")"
   ]
  },
  {
   "cell_type": "code",
   "execution_count": 16,
   "metadata": {
    "tags": []
   },
   "outputs": [
    {
     "data": {
      "image/png": "[encoded data removed]",
      "text/plain": [
       "<Figure size 800x600 with 1 Axes>"
      ]
     },
     "metadata": {},
     "output_type": "display_data"
    }
   ],
   "source": [
    "# Get ROC curve data\n",
    "fpr, tpr, _ = roc_curve(y_test, bagging.predict_proba(X_test)[:, 1])\n",
    "\n",
    "# Plot ROC curve\n",
    "plt.figure(figsize = (8, 6))\n",
    "plt.plot(fpr, tpr, color = \"red\", lw = 2, label = f\"Bagging (AUC = {roc_auc_bagging:.2f})\")\n",
    "\n",
    "# Plot the diagonal line\n",
    "plt.plot([0, 1], [0, 1], color = \"black\", lw = 2, linestyle = \"dashed\")\n",
    "    \n",
    "# Add a title\n",
    "plt.title(\"ROC Curve for Bagging Model\")\n",
    "\n",
    "# Add axis labels\n",
    "plt.xlabel(\"False Positive Rate\")\n",
    "plt.ylabel(\"True Positive Rate\")\n",
    "\n",
    "# Add a legend\n",
    "plt.legend(loc = \"lower right\")\n",
    "    \n",
    "# Show the plot\n",
    "plt.show()"
   ]
  },
  {
   "cell_type": "markdown",
   "metadata": {},
   "source": [
    "Now how does the ROC curve look? How does this compare to our classification accuracy metric?  What might be going on? "
   ]
  },
  {
   "cell_type": "markdown",
   "metadata": {},
   "source": [
    "The ROC curve appears as a zig-zag rather than a smooth curve, likely due to class imbalance. This suggests that the model may become overconfident in predicting the majority class, causing fluctuations in the curve."
   ]
  },
  {
   "cell_type": "markdown",
   "metadata": {},
   "source": [
    "### Step 6: Introducing upsampling\n",
    "\n",
    "The ROC curve indicates that our model is not performing well.  This is a common issue in imbalanced datasets, where one class significantly outnumbers the other. To improve our model’s ability to correctly classify both groups, we will upsample the minority class so that both classes have equal representation in the training set.\n",
    "\n",
    "**Perform upsampling to balance the dataset**\n",
    "1. Separate the majority and minority classes:\n",
    "- Identify which class (0,1) is underrepresented (the minority class) and which is overrepresented (the majority class). \n",
    "- Separate both the `X_train` data and `y_train` data into all majority class and all minority class sets. \n",
    "2. Apply upsampling:\n",
    "- Use `resample()` to create additional synthetic samples of the minority class *with replacement* until it is the same size as the majority class data. Use a random state of 808. \n",
    "3. Combine the balanced classes:\n",
    "Merge the original majority class with the newly upsampled minority class.\n",
    "4. Shuffle the resampled dataset:\n",
    "- Randomly shuffle the data to ensure the model does not learn any unintended patterns from the order of the data. Use a random state of 808 for shuffling both the resampled X and y training data. \n",
    "5. Print the value counts for the resampled y training data to ensure that the data is balanced. \n"
   ]
  },
  {
   "cell_type": "code",
   "execution_count": 17,
   "metadata": {
    "tags": []
   },
   "outputs": [
    {
     "name": "stdout",
     "output_type": "stream",
     "text": [
      "subarid\n",
      "1    150\n",
      "0     19\n",
      "Name: count, dtype: int64\n"
     ]
    }
   ],
   "source": [
    "# Print initial class distribution\n",
    "print(y_train[\"subarid\"].value_counts())"
   ]
  },
  {
   "cell_type": "code",
   "execution_count": 18,
   "metadata": {
    "tags": []
   },
   "outputs": [
    {
     "name": "stdout",
     "output_type": "stream",
     "text": [
      "subarid\n",
      "0    159\n",
      "1    141\n",
      "Name: count, dtype: int64\n"
     ]
    }
   ],
   "source": [
    "# Separate majority and minority classes\n",
    "X_train_minority = X_train.loc[y_train[y_train[\"subarid\"] == 0].index]\n",
    "X_train_majority = X_train.loc[y_train[y_train[\"subarid\"] == 1].index]\n",
    "\n",
    "y_train_minority = y_train[y_train[\"subarid\"] == 0]\n",
    "y_train_majority = y_train[y_train[\"subarid\"] == 1]\n",
    "\n",
    "# Upsample the minority class\n",
    "X_train_minority_upsampled, y_train_minority_upsampled = resample(X_train_minority,\n",
    "                                                                  y_train_minority,\n",
    "                                                                  replace = True,\n",
    "                                                                  n_samples = len(y_train_majority),\n",
    "                                                                  random_state = 808)\n",
    "\n",
    "\n",
    "# Combine majority and upsampled minority class\n",
    "X_train_resampled = pd.concat([X_train_majority, X_train_minority_upsampled])\n",
    "y_train_resampled = pd.concat([y_train_majority, y_train_minority_upsampled])\n",
    "\n",
    "# Shuffle the dataset\n",
    "X_train_resampled, y_train_resampled = resample(X_train_resampled,\n",
    "                                                y_train_resampled,\n",
    "                                                random_state = 808)\n",
    "\n",
    "# Print value counts \n",
    "print(y_train_resampled[\"subarid\"].value_counts())"
   ]
  },
  {
   "cell_type": "markdown",
   "metadata": {},
   "source": [
    "### Step 7: Retrain and evaluate model using balanced data\n",
    "\n",
    "Now that we have addressed the class imbalance by upsampling the minority class, we will retrain the bagging classifier on the newly balanced dataset and evaluate its performance. This will help us determine whether handling class imbalance improves model accuracy and its ability to distinguish between classes. Create a bagging model using your balanced data. Use a random state of 808. Print the accuracy and and ROC Curve for this new model with balanced data. "
   ]
  },
  {
   "cell_type": "code",
   "execution_count": 19,
   "metadata": {
    "tags": []
   },
   "outputs": [
    {
     "name": "stdout",
     "output_type": "stream",
     "text": [
      "Bagging Accuracy after Upsampling: 0.8904\n",
      "Bagging AUC after Upsampling: 0.7687\n"
     ]
    }
   ],
   "source": [
    "# Re-train the model on balanced dataset\n",
    "bagging.fit(X_train_resampled, y_train_resampled.values.ravel())\n",
    "\n",
    "# Generate predictions\n",
    "balanced_preds = bagging.predict(X_test)\n",
    "\n",
    "# Compute model accuracy\n",
    "accuracy_balanced = accuracy_score(y_test, balanced_preds)\n",
    "\n",
    "# Calculate ROC AUC for the balanced model\n",
    "roc_auc_balanced = roc_auc_score(y_test, bagging.predict_proba(X_test)[:, 1])\n",
    "\n",
    "# Print new accuracy and ROC AUC\n",
    "print(f\"Bagging Accuracy after Upsampling: {accuracy_balanced:.4f}\")\n",
    "print(f\"Bagging AUC after Upsampling: {roc_auc_balanced:.4f}\")"
   ]
  },
  {
   "cell_type": "code",
   "execution_count": 20,
   "metadata": {
    "tags": []
   },
   "outputs": [
    {
     "data": {
      "image/png": "[encoded data removed]",
      "text/plain": [
       "<Figure size 800x600 with 1 Axes>"
      ]
     },
     "metadata": {},
     "output_type": "display_data"
    }
   ],
   "source": [
    "# Get ROC curve data\n",
    "fpr, tpr, _ = roc_curve(y_test, bagging.predict_proba(X_test)[:, 1])\n",
    "\n",
    "# Plot ROC curve\n",
    "plt.figure(figsize = (8, 6))\n",
    "plt.plot(fpr, tpr, color = \"red\", lw = 2, label = f\"Bagging (AUC = {roc_auc_balanced:.2f})\")\n",
    "\n",
    "# Plot the diagonal line\n",
    "plt.plot([0, 1], [0, 1], color = \"black\", lw = 2, linestyle = \"dashed\")\n",
    "    \n",
    "# Add a title\n",
    "plt.title(\"ROC Curve for Bagging Model (Upsample)\")\n",
    "\n",
    "# Add axis labels\n",
    "plt.xlabel(\"False Positive Rate\")\n",
    "plt.ylabel(\"True Positive Rate\")\n",
    "\n",
    "# Add a legend\n",
    "plt.legend(loc = \"lower right\")\n",
    "    \n",
    "# Show the plot\n",
    "plt.show()"
   ]
  },
  {
   "cell_type": "markdown",
   "metadata": {},
   "source": [
    "How did this second model, trained on balanced data, do in comparison to the first on the accuracy and AUC metrics.  How should we interpret those results?  Did the upscaling prove useful?"
   ]
  },
  {
   "cell_type": "markdown",
   "metadata": {},
   "source": [
    "After training the model on the balanced data, we observed a decrease in accuracy, likely due to the model's behavior after upsampling the minority class. However, there was a slight improvement in AUC, indicating that the model's ability to distinguish between the classes improved slightly. While upsampling led to a lower accuracy, it can still be useful in improving the model's predictive performance."
   ]
  },
  {
   "cell_type": "markdown",
   "metadata": {},
   "source": [
    "### Step 8: Analyzing feature importance with permutation importance\n",
    "\n",
    "Understanding which bird traits contribute the most to our model’s predictions is crucial for interpreting results. We covered in lecture how the results of ensemble methods are harder to interpret than a single decision tree.  But we do have some tools to do it.  In this step, we will compute permutation importance, which measures the impact of each trait by shuffling its values and observing the effect on model performance. This will help us identify which functional traits—such as diet, body mass, or habitat breadth—play the biggest role in predicting whether a species is found in a subarid environment.\n",
    "\n",
    "Use `permutation_importance()` to calculate the importance values.  You'll need to pass it the model, the feature and target test data, and an n_repeats value of 10."
   ]
  },
  {
   "cell_type": "code",
   "execution_count": 21,
   "metadata": {
    "tags": []
   },
   "outputs": [
    {
     "data": {
      "text/plain": [
       "array([17, 14, 13,  1, 19,  6,  9,  8,  2, 15,  7,  3, 16,  5, 11, 12,  4,\n",
       "       10,  0, 18])"
      ]
     },
     "execution_count": 21,
     "metadata": {},
     "output_type": "execute_result"
    }
   ],
   "source": [
    "# Compute permutation importance\n",
    "result = permutation_importance(bagging, X_test, y_test, n_repeats = 10, random_state = 808)\n",
    "\n",
    "# Get the mean and standard deviation of importance values\n",
    "importance_mean = result.importances_mean\n",
    "importance_std = result.importances_std\n",
    "\n",
    "# Sort features by importance\n",
    "sorted_idx = np.argsort(importance_mean)\n",
    "sorted_idx"
   ]
  },
  {
   "cell_type": "code",
   "execution_count": 22,
   "metadata": {
    "tags": []
   },
   "outputs": [
    {
     "data": {
      "text/plain": [
       "Index(['eggmass', 'clutchsize', 'incubationtime', 'dietbreadth',\n",
       "       'maxlongevity', 'diet_seeds', 'trophiclevel', 'diet_other',\n",
       "       'diet_invertebrates', 'egglength', 'diet_plants', 'diet_vertebrates',\n",
       "       'eggwidth', 'diet_flowers', 'foragingstratum', 'migratorystatus',\n",
       "       'diet_fruits', 'activitycycle', 'adultbodymass', 'nestinghabit'],\n",
       "      dtype='object')"
      ]
     },
     "execution_count": 22,
     "metadata": {},
     "output_type": "execute_result"
    }
   ],
   "source": [
    "X_test.columns[sorted_idx]"
   ]
  },
  {
   "cell_type": "markdown",
   "metadata": {},
   "source": [
    "What features are most important in our model of species distribution?"
   ]
  },
  {
   "cell_type": "markdown",
   "metadata": {},
   "source": [
    "Based on permutation importance, egg mass is identified as the most significant factor in predicting whether a species can be found in a subarid environment. This indicates that the size of the eggs plays a crucial role in the species' ability to thrive in such climates. Following egg mass, clutch size and incubation time are also important predictors."
   ]
  }
 ],
 "metadata": {
  "kernelspec": {
   "display_name": "Anaconda 3 (EDS232)",
   "language": "python",
   "name": "ml-env"
  },
  "language_info": {
   "codemirror_mode": {
    "name": "ipython",
    "version": 3
   },
   "file_extension": ".py",
   "mimetype": "text/x-python",
   "name": "python",
   "nbconvert_exporter": "python",
   "pygments_lexer": "ipython3",
   "version": "3.10.16"
  }
 },
 "nbformat": 4,
 "nbformat_minor": 4
}
