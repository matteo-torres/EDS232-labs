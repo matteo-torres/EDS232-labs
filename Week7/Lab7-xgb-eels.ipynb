{
 "cells": [
  {
   "cell_type": "markdown",
   "id": "b6e8c422-cc19-4d89-8f96-003c36cf7c33",
   "metadata": {},
   "source": [
    "## Lab 7: Eel Distribution Modeling with XGBoost\n",
    "\n",
    "**Reference Paper:** [Elith et al. (2008)](https://ucsb.box.com/s/6k7636wsbogdg3orarxrlowke0ounbic)\n",
    "\n",
    "In this lab, you will model the distribution of the eel species *Anguilla australis* using **boosted classification trees (BCTs)**, a machine learning technique that improves predictive performance by combining multiple decision trees. Elith et al. (2008) offered an early implementation of BRTs in an ecological setting to understand how environmental variables influence eel distribution.\n",
    "\n",
    "You will work with **two datasets**:\n",
    "1. **Training Data** – Used to build and evaluate your XGBoost model.\n",
    "2. **Evaluation Data** – Used to assess model performance on unseen data.\n",
    "\n",
    "To achieve the following objectives:\n",
    "- Train and fine-tune an **XGBoost** model for classification of species presence/absence data.\n",
    "- Compare your model’s performance to the approach used by Elith et al.\n",
    "\n",
    "\n",
    "**Wherever applicable in this lab, use a random state of 808.**"
   ]
  },
  {
   "cell_type": "markdown",
   "id": "ac39e743-8686-4f51-85ee-7c1925002f5f",
   "metadata": {},
   "source": [
    "### Step 0: Load libraries and data\n"
   ]
  },
  {
   "cell_type": "code",
   "execution_count": 1,
   "id": "dd687480-182a-4416-9cdd-10eb33d147d1",
   "metadata": {
    "tags": []
   },
   "outputs": [],
   "source": [
    "import pandas as pd\n",
    "from sklearn.model_selection import train_test_split,RandomizedSearchCV\n",
    "from sklearn.preprocessing import LabelEncoder\n",
    "import xgboost as xgb\n",
    "from xgboost import XGBClassifier\n",
    "from sklearn.metrics import roc_auc_score, mean_squared_error\n",
    "from scipy.stats import uniform, randint\n",
    "\n",
    "# Download the datasets\n",
    "model_data = pd.read_csv(\"/courses/EDS232/Data/model.data.csv\").drop(columns=['Site'])\n",
    "eval_data = pd.read_csv(\"/courses/EDS232/Data/eval.data.csv\")"
   ]
  },
  {
   "cell_type": "markdown",
   "id": "21e16c25",
   "metadata": {},
   "source": [
    "### Step 1:Initial Data Preprocessing\n",
    "Let's get started by preparing our data. `Angaus` will be our target variable(`y`), and all other variables will be our features (`X`). Then encode the categorical feature using `LabelEncoder()`. The final step will be a bit different this time.  We don't need to split off testing data for the final model evaluation; a separate set (`eval_data`) will be used as in Elith et al.  We do, however, need to split our data in order to do the early stopping process. When splitting your data into training and validation, use a test size of 0.2 and a random state of 808. "
   ]
  },
  {
   "cell_type": "code",
   "execution_count": 2,
   "id": "92f8a3c0",
   "metadata": {
    "tags": []
   },
   "outputs": [
    {
     "data": {
      "text/html": [
       "<div>\n",
       "<style scoped>\n",
       "    .dataframe tbody tr th:only-of-type {\n",
       "        vertical-align: middle;\n",
       "    }\n",
       "\n",
       "    .dataframe tbody tr th {\n",
       "        vertical-align: top;\n",
       "    }\n",
       "\n",
       "    .dataframe thead th {\n",
       "        text-align: right;\n",
       "    }\n",
       "</style>\n",
       "<table border=\"1\" class=\"dataframe\">\n",
       "  <thead>\n",
       "    <tr style=\"text-align: right;\">\n",
       "      <th></th>\n",
       "      <th>Angaus</th>\n",
       "      <th>SegSumT</th>\n",
       "      <th>SegTSeas</th>\n",
       "      <th>SegLowFlow</th>\n",
       "      <th>DSDist</th>\n",
       "      <th>DSMaxSlope</th>\n",
       "      <th>USAvgT</th>\n",
       "      <th>USRainDays</th>\n",
       "      <th>USSlope</th>\n",
       "      <th>USNative</th>\n",
       "      <th>DSDam</th>\n",
       "      <th>Method</th>\n",
       "      <th>LocSed</th>\n",
       "    </tr>\n",
       "  </thead>\n",
       "  <tbody>\n",
       "    <tr>\n",
       "      <th>0</th>\n",
       "      <td>0</td>\n",
       "      <td>16.0</td>\n",
       "      <td>-0.10</td>\n",
       "      <td>1.036</td>\n",
       "      <td>50.20</td>\n",
       "      <td>0.57</td>\n",
       "      <td>0.09</td>\n",
       "      <td>2.470</td>\n",
       "      <td>9.8</td>\n",
       "      <td>0.81</td>\n",
       "      <td>0</td>\n",
       "      <td>electric</td>\n",
       "      <td>4.8</td>\n",
       "    </tr>\n",
       "    <tr>\n",
       "      <th>1</th>\n",
       "      <td>1</td>\n",
       "      <td>18.7</td>\n",
       "      <td>1.51</td>\n",
       "      <td>1.003</td>\n",
       "      <td>132.53</td>\n",
       "      <td>1.15</td>\n",
       "      <td>0.20</td>\n",
       "      <td>1.153</td>\n",
       "      <td>8.3</td>\n",
       "      <td>0.34</td>\n",
       "      <td>0</td>\n",
       "      <td>electric</td>\n",
       "      <td>2.0</td>\n",
       "    </tr>\n",
       "    <tr>\n",
       "      <th>2</th>\n",
       "      <td>0</td>\n",
       "      <td>18.3</td>\n",
       "      <td>0.37</td>\n",
       "      <td>1.001</td>\n",
       "      <td>107.44</td>\n",
       "      <td>0.57</td>\n",
       "      <td>0.49</td>\n",
       "      <td>0.847</td>\n",
       "      <td>0.4</td>\n",
       "      <td>0.00</td>\n",
       "      <td>0</td>\n",
       "      <td>spo</td>\n",
       "      <td>1.0</td>\n",
       "    </tr>\n",
       "    <tr>\n",
       "      <th>3</th>\n",
       "      <td>0</td>\n",
       "      <td>16.7</td>\n",
       "      <td>-3.80</td>\n",
       "      <td>1.000</td>\n",
       "      <td>166.82</td>\n",
       "      <td>1.72</td>\n",
       "      <td>0.90</td>\n",
       "      <td>0.210</td>\n",
       "      <td>0.4</td>\n",
       "      <td>0.22</td>\n",
       "      <td>1</td>\n",
       "      <td>electric</td>\n",
       "      <td>4.0</td>\n",
       "    </tr>\n",
       "    <tr>\n",
       "      <th>4</th>\n",
       "      <td>1</td>\n",
       "      <td>17.2</td>\n",
       "      <td>0.33</td>\n",
       "      <td>1.005</td>\n",
       "      <td>3.95</td>\n",
       "      <td>1.15</td>\n",
       "      <td>-1.20</td>\n",
       "      <td>1.980</td>\n",
       "      <td>21.9</td>\n",
       "      <td>0.96</td>\n",
       "      <td>0</td>\n",
       "      <td>electric</td>\n",
       "      <td>4.7</td>\n",
       "    </tr>\n",
       "  </tbody>\n",
       "</table>\n",
       "</div>"
      ],
      "text/plain": [
       "   Angaus  SegSumT  SegTSeas  SegLowFlow  DSDist  DSMaxSlope  USAvgT  \\\n",
       "0       0     16.0     -0.10       1.036   50.20        0.57    0.09   \n",
       "1       1     18.7      1.51       1.003  132.53        1.15    0.20   \n",
       "2       0     18.3      0.37       1.001  107.44        0.57    0.49   \n",
       "3       0     16.7     -3.80       1.000  166.82        1.72    0.90   \n",
       "4       1     17.2      0.33       1.005    3.95        1.15   -1.20   \n",
       "\n",
       "   USRainDays  USSlope  USNative  DSDam    Method  LocSed  \n",
       "0       2.470      9.8      0.81      0  electric     4.8  \n",
       "1       1.153      8.3      0.34      0  electric     2.0  \n",
       "2       0.847      0.4      0.00      0       spo     1.0  \n",
       "3       0.210      0.4      0.22      1  electric     4.0  \n",
       "4       1.980     21.9      0.96      0  electric     4.7  "
      ]
     },
     "execution_count": 2,
     "metadata": {},
     "output_type": "execute_result"
    }
   ],
   "source": [
    "# Look at the first 5 rows\n",
    "model_data.head()"
   ]
  },
  {
   "cell_type": "code",
   "execution_count": 3,
   "id": "facf0e60-874f-428d-a70f-2af0b7910104",
   "metadata": {
    "tags": []
   },
   "outputs": [
    {
     "data": {
      "text/plain": [
       "Angaus          int64\n",
       "SegSumT       float64\n",
       "SegTSeas      float64\n",
       "SegLowFlow    float64\n",
       "DSDist        float64\n",
       "DSMaxSlope    float64\n",
       "USAvgT        float64\n",
       "USRainDays    float64\n",
       "USSlope       float64\n",
       "USNative      float64\n",
       "DSDam           int64\n",
       "Method          int64\n",
       "LocSed        float64\n",
       "dtype: object"
      ]
     },
     "execution_count": 3,
     "metadata": {},
     "output_type": "execute_result"
    }
   ],
   "source": [
    "# Encode categorical variable\n",
    "le = LabelEncoder()\n",
    "model_data[\"Method\"] = le.fit_transform(model_data[\"Method\"])\n",
    "\n",
    "# Verify\n",
    "model_data.dtypes"
   ]
  },
  {
   "cell_type": "code",
   "execution_count": 4,
   "id": "54e4a56b-6c5e-4385-9ea2-16724161fc4a",
   "metadata": {
    "tags": []
   },
   "outputs": [],
   "source": [
    "# Define target and feature variables\n",
    "X = model_data.drop(columns = \"Angaus\")\n",
    "y = model_data[\"Angaus\"]"
   ]
  },
  {
   "cell_type": "code",
   "execution_count": 5,
   "id": "ec3072a9-9d40-45cd-adf7-5a31886cb073",
   "metadata": {
    "tags": []
   },
   "outputs": [],
   "source": [
    "# Split data into training and validation \n",
    "X_train, X_val, y_train, y_val = train_test_split(X, y, test_size = 0.2, random_state = 808)"
   ]
  },
  {
   "cell_type": "markdown",
   "id": "e025a34e",
   "metadata": {},
   "source": [
    "### Step 2: Determine best number of trees using early stopping\n",
    "As a guard against overfitting while maximizing performance, we use **early stopping**. We start with a large number of trees and allow XGBoost to determine the optimal number by stopping training when the validation error no longer improves.\n",
    "\n",
    "The choice of hyperparameter starting values is important in this process. We begin with:\n",
    "- `n_estimators=1000` to ensure the model has enough capacity to learn meaningful patterns.\n",
    "- `learning_rate=0.1` as a reasonable default that balances learning speed and performance.\n",
    "- `eval_metric=\"logloss\"` as the metric of performance to optimize.\n",
    "- `early_stopping_rounds=50` to halt training if no improvement is seen for 50 rounds, preventing unnecessary computations.\n",
    "- `random_state = 808`\n",
    "\n",
    "We then `fit()` our specified baseline model, passing in the training sets as usual and specifying validation sets values for the `eval_set` parameter.\n",
    "\n",
    "Finally, get and print the best number of trees from the fitted baseline model.\n"
   ]
  },
  {
   "cell_type": "code",
   "execution_count": 6,
   "id": "55bf0fa0",
   "metadata": {
    "tags": []
   },
   "outputs": [
    {
     "name": "stdout",
     "output_type": "stream",
     "text": [
      "Best Number of Trees: 29\n"
     ]
    }
   ],
   "source": [
    "# Initialize model with hyperparameters\n",
    "xg = XGBClassifier(n_estimators = 1000,\n",
    "                   learning_rate = 0.1,\n",
    "                   eval_metric = \"logloss\",\n",
    "                   early_stopping_rounds = 50,\n",
    "                   random_state = 808)\n",
    "\n",
    "# Fit training data with evaluation parameter\n",
    "xg.fit(X_train, y_train, eval_set = [(X_val, y_val)], verbose = False)\n",
    "\n",
    "# Print best number of trees\n",
    "best_number_trees = xg.best_iteration\n",
    "print(f\"Best Number of Trees: {best_number_trees}\")"
   ]
  },
  {
   "cell_type": "markdown",
   "id": "95ac1456",
   "metadata": {},
   "source": [
    "### Step 3: Tune Learning Rate\n",
    "\n",
    "The (`learning_rate` hyperparameter controls how much each tree contributes to improving the model's performance. A *higher* learning rate allows the model to learn quickly but risks missing the optimal solution and overfitting, while a *lower* learning rate makes learning slower but can improve generalization.\n",
    "\n",
    "To find the optimal value, we'll use **randomized search cross-validation** (`RandomizedSearchCV`) to test different learning rates in the 0.01 to 0.3 range. Instead of testing every possible value, this method samples a set number of candidates (`n_iter`) from a defined parameter distribution.  In this case, sampling 20 candidates from a uniform distribution between `0.01` and `0.31`. Check out the [documentation](https://docs.scipy.org/doc/scipy/reference/generated/scipy.stats.uniform.html) on `scipy.stats.uniform` to see how it differs from `random.uniform`. Be sure to use a random state of 808.\n",
    "\n",
    "After using `RandomizedSearchCV`, fit your model. Print the best learning rate. \n"
   ]
  },
  {
   "cell_type": "code",
   "execution_count": 7,
   "id": "393b5c0b-b212-440b-a052-0c9a7e406b0f",
   "metadata": {
    "tags": []
   },
   "outputs": [
    {
     "name": "stdout",
     "output_type": "stream",
     "text": [
      "Best Learning Rate: 0.2204\n"
     ]
    }
   ],
   "source": [
    "# Define paramter distribution\n",
    "param_distributions = {\n",
    "    \"learning_rate\": uniform(0.01, 0.3)\n",
    "}\n",
    "\n",
    "# Use RandomizedSearchCV\n",
    "rs = RandomizedSearchCV(xg, \n",
    "                        n_iter = 20, \n",
    "                        param_distributions = param_distributions,\n",
    "                        cv = 5,\n",
    "                        scoring = \"neg_log_loss\",\n",
    "                        n_jobs = -1,\n",
    "                        random_state = 808)\n",
    "# Carry out the search\n",
    "rs.fit(X_train, y_train, eval_set = [(X_val, y_val)], verbose = False)\n",
    "\n",
    "# Print best learning rate\n",
    "best_learning_rate = rs.best_params_[\"learning_rate\"]\n",
    "print(f\"Best Learning Rate: {best_learning_rate:.4f}\")"
   ]
  },
  {
   "cell_type": "markdown",
   "id": "71907b11",
   "metadata": {},
   "source": [
    "### Step 4: Tune Tree-Specific Parameters\n",
    "\n",
    "Now that we've determined the best number of tree and learning rate, we need to tune the complexity of individual trees in our model. Initialize your model with the best number of trees and learning rate.Then, define a parameter dictionary that takes on the following values:  \n",
    "\n",
    "- `max_depth`(Controls how deep each tree can grow.  Takes integer values): A random integer from 3 to 10 ( inclusive of 3 and 10)\n",
    "- `min_child_weight`( Determines the minimum number of samples required in a leaf node. Takes integer values) : A random integer from 1 to 10 ( inclusive of 1 and 10)\n",
    "- `gamma` (Defines the minimum loss reduction needed to make a further split in a tree. Can take on values from a continuous range):  A uniform distribution from 0.05 to 0.10 - once again remember to check the `scipy.stats.uniform()` documentation! \n",
    "- `random_state = 808`\n",
    "\n",
    "To find the best combination, we again use `RandomizedSearchCV`, allowing us to efficiently sample hyperparameters and evaluate different configurations using cross-validation. After fitting the model, print the best parameters. \n",
    "\n"
   ]
  },
  {
   "cell_type": "code",
   "execution_count": 8,
   "id": "95c411a3",
   "metadata": {
    "tags": []
   },
   "outputs": [
    {
     "name": "stdout",
     "output_type": "stream",
     "text": [
      "Best Gamma: 0.0650\n",
      "Best Max Depth: 5\n",
      "Best Min Child Weight: 8\n"
     ]
    }
   ],
   "source": [
    "# Initialize model with best number of trees and learning rate\n",
    "xg = XGBClassifier(n_estimators = best_number_trees,\n",
    "                   learning_rate = best_learning_rate,\n",
    "                   eval_metric = \"logloss\",\n",
    "                   early_stopping_rounds = 50,\n",
    "                   random_state = 808)\n",
    "\n",
    "# Define a parameter dictionary\n",
    "param_dic = {\n",
    "    \"max_depth\": randint(3, 11),\n",
    "    \"min_child_weight\": randint(1, 11),\n",
    "    \"gamma\": uniform(0.05, 0.10)\n",
    "}\n",
    "\n",
    "# Use RandomizedSearchCV\n",
    "rs = RandomizedSearchCV(xg, \n",
    "                        n_iter = 20, \n",
    "                        param_distributions = param_dic,\n",
    "                        cv = 5,\n",
    "                        scoring = \"neg_log_loss\",\n",
    "                        n_jobs = -1,\n",
    "                        random_state = 808)\n",
    "\n",
    "# Carry out the search\n",
    "rs.fit(X_train, y_train, eval_set = [(X_val, y_val)], verbose = False)\n",
    "\n",
    "# Print best parameters\n",
    "best_gamma = rs.best_params_[\"gamma\"]\n",
    "best_depth = rs.best_params_[\"max_depth\"]\n",
    "best_weight = rs.best_params_[\"min_child_weight\"]\n",
    "print(f\"Best Gamma: {best_gamma:.4f}\")\n",
    "print(f\"Best Max Depth: {best_depth}\")\n",
    "print(f\"Best Min Child Weight: {best_weight}\")"
   ]
  },
  {
   "cell_type": "markdown",
   "id": "2168bf81",
   "metadata": {},
   "source": [
    "### Step 5: Tune Stochastic Components\n",
    "\n",
    "Now, we are finally ready to tune the stochastic components of the XGBoost model.  These parameters help prevent overfitting by reducing correlation between trees. Initialize your model with the best number of trees, best learning rate,and your optimized tree values (**Note**: you can use \\**best_tree_parameters to unpack the the dictionary of optimzed tree values) .Then, define a parameter dictionary that takes on the following values:  \n",
    "\n",
    "- `subsample` (Controls the fraction of training samples used for each boosting round) : A uniform distribution between .5 and .10 (remeber to check `scipy.stats.uniform()` documentation! )\n",
    "- `colsample_bytree`(Specifies the fraction of features to consider when building each tree) : A uniform distribution between .5 and .10\n",
    "- `random_state = 808`\n",
    "\n",
    "We again use `RandomizedSearchCV` to find the best combination of these parameters. After fitting the model, print the best parameters. \n"
   ]
  },
  {
   "cell_type": "code",
   "execution_count": 9,
   "id": "32a61aee-57b1-470b-aa07-488dbe70f898",
   "metadata": {
    "tags": []
   },
   "outputs": [
    {
     "name": "stdout",
     "output_type": "stream",
     "text": [
      "Best Colsample By Tree: 0.1475\n",
      "Best Subsample: 0.1381\n"
     ]
    }
   ],
   "source": [
    "# Initialize model with best parameters\n",
    "xg = XGBClassifier(n_estimators = best_number_trees,\n",
    "                   learning_rate = best_learning_rate,\n",
    "                   max_depth = best_depth,\n",
    "                   min_child_weight = best_weight,\n",
    "                   gamma = best_gamma,\n",
    "                   eval_metric = \"logloss\",\n",
    "                   early_stopping_rounds = 50,\n",
    "                   random_state = 808)\n",
    "\n",
    "# Define a parameter dictionary\n",
    "param_dic = {\n",
    "    \"subsample\": uniform(0.05, 0.10),\n",
    "    \"colsample_bytree\": uniform(0.05, 0.10)\n",
    "}\n",
    "\n",
    "# Use RandomizedSearchCV\n",
    "rs = RandomizedSearchCV(xg, \n",
    "                        n_iter = 20, \n",
    "                        param_distributions = param_dic,\n",
    "                        cv = 5,\n",
    "                        scoring = \"neg_log_loss\",\n",
    "                        n_jobs = -1,\n",
    "                        random_state = 808)\n",
    "\n",
    "# Carry out the search\n",
    "rs.fit(X_train, y_train, eval_set = [(X_val, y_val)], verbose = False)\n",
    "\n",
    "# Print best parameters\n",
    "best_colsample = rs.best_params_[\"colsample_bytree\"]\n",
    "best_subsample = rs.best_params_[\"subsample\"]\n",
    "print(f\"Best Colsample By Tree: {best_colsample:.4f}\")\n",
    "print(f\"Best Subsample: {best_subsample:.4f}\")"
   ]
  },
  {
   "cell_type": "markdown",
   "id": "355cd2d2",
   "metadata": {},
   "source": [
    "### Step 6: Final Model Training and Evaluation\n",
    "\n",
    "With the best hyperparameters selected, we now train the final model on the full training dataset and evaluate it on the separate evaluation dataset.\n",
    "\n",
    "1. Prepare the evaluation data in the same manner as you did the training data\n",
    "\n",
    "2. Train final model using the best parameters found in previous tuning steps (`best_tree_params`, `best_stochastic_params`).Set  `eval_metric = \"logloss\"` \n",
    "\n",
    "3. Fit the model to the full training dataset and predict on the evaluation data \n"
   ]
  },
  {
   "cell_type": "code",
   "execution_count": 10,
   "id": "b68c8624-942b-4d1b-a665-77ca99685186",
   "metadata": {
    "scrolled": true,
    "tags": []
   },
   "outputs": [
    {
     "data": {
      "text/html": [
       "<div>\n",
       "<style scoped>\n",
       "    .dataframe tbody tr th:only-of-type {\n",
       "        vertical-align: middle;\n",
       "    }\n",
       "\n",
       "    .dataframe tbody tr th {\n",
       "        vertical-align: top;\n",
       "    }\n",
       "\n",
       "    .dataframe thead th {\n",
       "        text-align: right;\n",
       "    }\n",
       "</style>\n",
       "<table border=\"1\" class=\"dataframe\">\n",
       "  <thead>\n",
       "    <tr style=\"text-align: right;\">\n",
       "      <th></th>\n",
       "      <th>Angaus_obs</th>\n",
       "      <th>SegSumT</th>\n",
       "      <th>SegTSeas</th>\n",
       "      <th>SegLowFlow</th>\n",
       "      <th>DSDist</th>\n",
       "      <th>DSMaxSlope</th>\n",
       "      <th>USAvgT</th>\n",
       "      <th>USRainDays</th>\n",
       "      <th>USSlope</th>\n",
       "      <th>USNative</th>\n",
       "      <th>DSDam</th>\n",
       "      <th>Method</th>\n",
       "      <th>LocSed</th>\n",
       "    </tr>\n",
       "  </thead>\n",
       "  <tbody>\n",
       "    <tr>\n",
       "      <th>0</th>\n",
       "      <td>0</td>\n",
       "      <td>16.6</td>\n",
       "      <td>1.01</td>\n",
       "      <td>1.017</td>\n",
       "      <td>5.23</td>\n",
       "      <td>0.29</td>\n",
       "      <td>-1.40</td>\n",
       "      <td>1.980</td>\n",
       "      <td>10.0</td>\n",
       "      <td>1.00</td>\n",
       "      <td>0</td>\n",
       "      <td>electric</td>\n",
       "      <td>4.9</td>\n",
       "    </tr>\n",
       "    <tr>\n",
       "      <th>1</th>\n",
       "      <td>1</td>\n",
       "      <td>16.8</td>\n",
       "      <td>-0.51</td>\n",
       "      <td>1.002</td>\n",
       "      <td>2.24</td>\n",
       "      <td>0.00</td>\n",
       "      <td>0.27</td>\n",
       "      <td>0.460</td>\n",
       "      <td>0.7</td>\n",
       "      <td>0.00</td>\n",
       "      <td>0</td>\n",
       "      <td>electric</td>\n",
       "      <td>2.3</td>\n",
       "    </tr>\n",
       "    <tr>\n",
       "      <th>2</th>\n",
       "      <td>0</td>\n",
       "      <td>16.3</td>\n",
       "      <td>0.76</td>\n",
       "      <td>1.023</td>\n",
       "      <td>162.28</td>\n",
       "      <td>5.14</td>\n",
       "      <td>-0.60</td>\n",
       "      <td>0.806</td>\n",
       "      <td>21.4</td>\n",
       "      <td>0.66</td>\n",
       "      <td>0</td>\n",
       "      <td>electric</td>\n",
       "      <td>4.3</td>\n",
       "    </tr>\n",
       "    <tr>\n",
       "      <th>3</th>\n",
       "      <td>0</td>\n",
       "      <td>15.6</td>\n",
       "      <td>1.56</td>\n",
       "      <td>1.003</td>\n",
       "      <td>4.05</td>\n",
       "      <td>0.57</td>\n",
       "      <td>1.14</td>\n",
       "      <td>3.300</td>\n",
       "      <td>0.9</td>\n",
       "      <td>0.75</td>\n",
       "      <td>0</td>\n",
       "      <td>net</td>\n",
       "      <td>1.0</td>\n",
       "    </tr>\n",
       "    <tr>\n",
       "      <th>4</th>\n",
       "      <td>0</td>\n",
       "      <td>14.6</td>\n",
       "      <td>-0.20</td>\n",
       "      <td>1.023</td>\n",
       "      <td>127.03</td>\n",
       "      <td>1.72</td>\n",
       "      <td>-1.90</td>\n",
       "      <td>1.940</td>\n",
       "      <td>28.9</td>\n",
       "      <td>0.97</td>\n",
       "      <td>0</td>\n",
       "      <td>electric</td>\n",
       "      <td>NaN</td>\n",
       "    </tr>\n",
       "  </tbody>\n",
       "</table>\n",
       "</div>"
      ],
      "text/plain": [
       "   Angaus_obs  SegSumT  SegTSeas  SegLowFlow  DSDist  DSMaxSlope  USAvgT  \\\n",
       "0           0     16.6      1.01       1.017    5.23        0.29   -1.40   \n",
       "1           1     16.8     -0.51       1.002    2.24        0.00    0.27   \n",
       "2           0     16.3      0.76       1.023  162.28        5.14   -0.60   \n",
       "3           0     15.6      1.56       1.003    4.05        0.57    1.14   \n",
       "4           0     14.6     -0.20       1.023  127.03        1.72   -1.90   \n",
       "\n",
       "   USRainDays  USSlope  USNative  DSDam    Method  LocSed  \n",
       "0       1.980     10.0      1.00      0  electric     4.9  \n",
       "1       0.460      0.7      0.00      0  electric     2.3  \n",
       "2       0.806     21.4      0.66      0  electric     4.3  \n",
       "3       3.300      0.9      0.75      0       net     1.0  \n",
       "4       1.940     28.9      0.97      0  electric     NaN  "
      ]
     },
     "execution_count": 10,
     "metadata": {},
     "output_type": "execute_result"
    }
   ],
   "source": [
    "# Look at the first 5 rows\n",
    "eval_data.head()"
   ]
  },
  {
   "cell_type": "code",
   "execution_count": 11,
   "id": "b3fd53bb-0e20-4e64-8db9-b593b85ed68c",
   "metadata": {
    "tags": []
   },
   "outputs": [
    {
     "data": {
      "text/plain": [
       "Angaus_obs      int64\n",
       "SegSumT       float64\n",
       "SegTSeas      float64\n",
       "SegLowFlow    float64\n",
       "DSDist        float64\n",
       "DSMaxSlope    float64\n",
       "USAvgT        float64\n",
       "USRainDays    float64\n",
       "USSlope       float64\n",
       "USNative      float64\n",
       "DSDam           int64\n",
       "Method          int64\n",
       "LocSed        float64\n",
       "dtype: object"
      ]
     },
     "execution_count": 11,
     "metadata": {},
     "output_type": "execute_result"
    }
   ],
   "source": [
    "# Encode categorical variable\n",
    "le = LabelEncoder()\n",
    "eval_data[\"Method\"] = le.fit_transform(eval_data[\"Method\"])\n",
    "\n",
    "# Verify\n",
    "eval_data.dtypes"
   ]
  },
  {
   "cell_type": "code",
   "execution_count": 12,
   "id": "86b21510-0fa1-4eed-b513-1181601bcb90",
   "metadata": {
    "tags": []
   },
   "outputs": [],
   "source": [
    "# Define target and feature variables\n",
    "X_eval = eval_data.drop(columns = \"Angaus_obs\")\n",
    "y_eval = eval_data[\"Angaus_obs\"]"
   ]
  },
  {
   "cell_type": "code",
   "execution_count": 13,
   "id": "11bf59e3-5323-4489-90c9-ff4968144465",
   "metadata": {
    "tags": []
   },
   "outputs": [],
   "source": [
    "# Initialize model with best parameters\n",
    "xg = XGBClassifier(n_estimators = best_number_trees,\n",
    "                   learning_rate = best_learning_rate,\n",
    "                   max_depth = best_depth,\n",
    "                   min_child_weight = best_weight,\n",
    "                   gamma = best_gamma,\n",
    "                   colsample_bytree = best_colsample,\n",
    "                   subsample = best_subsample,\n",
    "                   early_stopping_rounds = 50,\n",
    "                   eval_metric = \"logloss\",\n",
    "                   random_state = 808)\n",
    "\n",
    "# Carry out the search\n",
    "xg.fit(X_train, y_train, eval_set = [(X_val, y_val)], verbose = False)\n",
    "\n",
    "# Predict on the evaluation data\n",
    "y_pred_prob = xg.predict_proba(X_eval)[:, 1]"
   ]
  },
  {
   "cell_type": "markdown",
   "id": "1f39d80a",
   "metadata": {},
   "source": [
    "### Step 7: Model Performance\n",
    "\n",
    "Compute and print the AUC and feature importances for your model."
   ]
  },
  {
   "cell_type": "code",
   "execution_count": 14,
   "id": "cc9df468",
   "metadata": {
    "tags": []
   },
   "outputs": [
    {
     "name": "stdout",
     "output_type": "stream",
     "text": [
      "AUC: 0.7990\n"
     ]
    },
    {
     "data": {
      "text/html": [
       "<div>\n",
       "<style scoped>\n",
       "    .dataframe tbody tr th:only-of-type {\n",
       "        vertical-align: middle;\n",
       "    }\n",
       "\n",
       "    .dataframe tbody tr th {\n",
       "        vertical-align: top;\n",
       "    }\n",
       "\n",
       "    .dataframe thead th {\n",
       "        text-align: right;\n",
       "    }\n",
       "</style>\n",
       "<table border=\"1\" class=\"dataframe\">\n",
       "  <thead>\n",
       "    <tr style=\"text-align: right;\">\n",
       "      <th></th>\n",
       "      <th>Feature</th>\n",
       "      <th>Importance</th>\n",
       "    </tr>\n",
       "  </thead>\n",
       "  <tbody>\n",
       "    <tr>\n",
       "      <th>11</th>\n",
       "      <td>LocSed</td>\n",
       "      <td>0.302320</td>\n",
       "    </tr>\n",
       "    <tr>\n",
       "      <th>0</th>\n",
       "      <td>SegSumT</td>\n",
       "      <td>0.256970</td>\n",
       "    </tr>\n",
       "    <tr>\n",
       "      <th>8</th>\n",
       "      <td>USNative</td>\n",
       "      <td>0.151296</td>\n",
       "    </tr>\n",
       "    <tr>\n",
       "      <th>7</th>\n",
       "      <td>USSlope</td>\n",
       "      <td>0.094856</td>\n",
       "    </tr>\n",
       "    <tr>\n",
       "      <th>2</th>\n",
       "      <td>SegLowFlow</td>\n",
       "      <td>0.081389</td>\n",
       "    </tr>\n",
       "    <tr>\n",
       "      <th>6</th>\n",
       "      <td>USRainDays</td>\n",
       "      <td>0.045797</td>\n",
       "    </tr>\n",
       "    <tr>\n",
       "      <th>5</th>\n",
       "      <td>USAvgT</td>\n",
       "      <td>0.034035</td>\n",
       "    </tr>\n",
       "    <tr>\n",
       "      <th>1</th>\n",
       "      <td>SegTSeas</td>\n",
       "      <td>0.033336</td>\n",
       "    </tr>\n",
       "    <tr>\n",
       "      <th>3</th>\n",
       "      <td>DSDist</td>\n",
       "      <td>0.000000</td>\n",
       "    </tr>\n",
       "    <tr>\n",
       "      <th>4</th>\n",
       "      <td>DSMaxSlope</td>\n",
       "      <td>0.000000</td>\n",
       "    </tr>\n",
       "    <tr>\n",
       "      <th>9</th>\n",
       "      <td>DSDam</td>\n",
       "      <td>0.000000</td>\n",
       "    </tr>\n",
       "    <tr>\n",
       "      <th>10</th>\n",
       "      <td>Method</td>\n",
       "      <td>0.000000</td>\n",
       "    </tr>\n",
       "  </tbody>\n",
       "</table>\n",
       "</div>"
      ],
      "text/plain": [
       "       Feature  Importance\n",
       "11      LocSed    0.302320\n",
       "0      SegSumT    0.256970\n",
       "8     USNative    0.151296\n",
       "7      USSlope    0.094856\n",
       "2   SegLowFlow    0.081389\n",
       "6   USRainDays    0.045797\n",
       "5       USAvgT    0.034035\n",
       "1     SegTSeas    0.033336\n",
       "3       DSDist    0.000000\n",
       "4   DSMaxSlope    0.000000\n",
       "9        DSDam    0.000000\n",
       "10      Method    0.000000"
      ]
     },
     "execution_count": 14,
     "metadata": {},
     "output_type": "execute_result"
    }
   ],
   "source": [
    "# Compute and print AUC score \n",
    "auc = roc_auc_score(y_eval, y_pred_prob)\n",
    "print(f\"AUC: {auc:.4f}\")\n",
    "\n",
    "# Compute feature importances\n",
    "feature_importances = xg.feature_importances_\n",
    "\n",
    "# Create a df with name of feature\n",
    "importances_df = pd.DataFrame({\n",
    "    \"Feature\": X_eval.columns,\n",
    "    \"Importance\": feature_importances\n",
    "})\n",
    "\n",
    "# Sort in descending of importance\n",
    "importances_df = importances_df.sort_values(by = \"Importance\", ascending = False)\n",
    "\n",
    "# Print importances\n",
    "importances_df"
   ]
  },
  {
   "cell_type": "markdown",
   "id": "7476ef1d",
   "metadata": {},
   "source": [
    "### Step 8: The comparison\n",
    "How does your model's performance compare to the of Elith et al. (See Tables 2 and 3)?  Is there another way to compare the models in addition to predictive performance?  Whose model wins in that regard?"
   ]
  },
  {
   "cell_type": "markdown",
   "id": "07dc2a69-bf1e-4442-ad9e-22dc26e0f2b3",
   "metadata": {
    "tags": []
   },
   "source": [
    "Compared to Elith et al., my model's performance is not as strong. The AUC score of my model is 0.7990, which is lower than the CV AUC of 0.869 reported in their study. Additionally, the ranking of feature importance differs: while Elith et al. found SegSumT to be the most important feature, LocSed is ranked highest in my model. However another way we can compare models is by its complexity is by calculatiing the mean squared error (MSE). In this case, Elith et al.'s model still wins in that regard by having a lower MSE of 0.015."
   ]
  },
  {
   "cell_type": "code",
   "execution_count": 15,
   "id": "1c1e475a-a21d-4936-9dc3-6546e430a1c7",
   "metadata": {
    "tags": []
   },
   "outputs": [
    {
     "name": "stdout",
     "output_type": "stream",
     "text": [
      "MSE: 0.1414\n"
     ]
    }
   ],
   "source": [
    "# Evaluate model performance (MSE)\n",
    "mse = mean_squared_error(y_eval, xg.predict_proba(X_eval)[:, 1])\n",
    "print(f\"MSE: {mse:.4f}\")"
   ]
  }
 ],
 "metadata": {
  "kernelspec": {
   "display_name": "Anaconda 3 (EDS232)",
   "language": "python",
   "name": "ml-env"
  },
  "language_info": {
   "codemirror_mode": {
    "name": "ipython",
    "version": 3
   },
   "file_extension": ".py",
   "mimetype": "text/x-python",
   "name": "python",
   "nbconvert_exporter": "python",
   "pygments_lexer": "ipython3",
   "version": "3.10.16"
  }
 },
 "nbformat": 4,
 "nbformat_minor": 5
}
